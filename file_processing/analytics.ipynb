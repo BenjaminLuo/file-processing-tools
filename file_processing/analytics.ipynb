{
 "cells": [
  {
   "cell_type": "code",
   "execution_count": 1,
   "metadata": {},
   "outputs": [],
   "source": [
    "import matplotlib.pyplot as plt\n",
    "import pandas as pd\n",
    "import numpy as np\n",
    "\n",
    "from directory2 import Directory\n"
   ]
  },
  {
   "attachments": {},
   "cell_type": "markdown",
   "metadata": {},
   "source": [
    "#### Defining the directory to analyze"
   ]
  },
  {
   "cell_type": "code",
   "execution_count": 2,
   "metadata": {},
   "outputs": [],
   "source": [
    "dir = Directory(r'C:\\Users\\BLUO\\AppData\\Local\\Temp')"
   ]
  },
  {
   "cell_type": "code",
   "execution_count": 3,
   "metadata": {},
   "outputs": [],
   "source": [
    "# dir.generate_report('./report_split.csv', split_metadata=True)\n",
    "# dir.generate_report('./report_no_split.csv', split_metadata=False)\n",
    "# dir.generate_report('./report_filtered.csv', split_metadata=False, filters={'extensions': ['.csv', '.docx', '.pptx', '.xlsx']})\n",
    "# dir.generate_report('./report_temp.csv', split_metadata=False)"
   ]
  },
  {
   "cell_type": "code",
   "execution_count": 5,
   "metadata": {},
   "outputs": [
    {
     "ename": "ValueError",
     "evalue": "dict contains fields not in fieldnames: 'Size (MB)'",
     "output_type": "error",
     "traceback": [
      "\u001b[1;31m---------------------------------------------------------------------------\u001b[0m",
      "\u001b[1;31mValueError\u001b[0m                                Traceback (most recent call last)",
      "Cell \u001b[1;32mIn[5], line 1\u001b[0m\n\u001b[1;32m----> 1\u001b[0m \u001b[39mdir\u001b[39;49m\u001b[39m.\u001b[39;49mgenerate_analytics(\u001b[39m'\u001b[39;49m\u001b[39m./analytics_temp.csv\u001b[39;49m\u001b[39m'\u001b[39;49m)\n",
      "File \u001b[1;32mc:\\Users\\BLUO\\Downloads\\report\\file_processing\\directory2.py:83\u001b[0m, in \u001b[0;36mDirectory.generate_analytics\u001b[1;34m(self, report_file, filters)\u001b[0m\n\u001b[0;32m     81\u001b[0m             row \u001b[39m=\u001b[39m {\u001b[39m'\u001b[39m\u001b[39mExtension\u001b[39m\u001b[39m'\u001b[39m: key}\n\u001b[0;32m     82\u001b[0m             row\u001b[39m.\u001b[39mupdate(val)\n\u001b[1;32m---> 83\u001b[0m             writer\u001b[39m.\u001b[39;49mwriterow(row)\n\u001b[0;32m     85\u001b[0m \u001b[39mexcept\u001b[39;00m \u001b[39mException\u001b[39;00m \u001b[39mas\u001b[39;00m e:\n\u001b[0;32m     86\u001b[0m     \u001b[39mraise\u001b[39;00m\n",
      "File \u001b[1;32mC:\\Program Files\\Python310\\lib\\csv.py:154\u001b[0m, in \u001b[0;36mDictWriter.writerow\u001b[1;34m(self, rowdict)\u001b[0m\n\u001b[0;32m    153\u001b[0m \u001b[39mdef\u001b[39;00m \u001b[39mwriterow\u001b[39m(\u001b[39mself\u001b[39m, rowdict):\n\u001b[1;32m--> 154\u001b[0m     \u001b[39mreturn\u001b[39;00m \u001b[39mself\u001b[39m\u001b[39m.\u001b[39mwriter\u001b[39m.\u001b[39mwriterow(\u001b[39mself\u001b[39;49m\u001b[39m.\u001b[39;49m_dict_to_list(rowdict))\n",
      "File \u001b[1;32mC:\\Program Files\\Python310\\lib\\csv.py:149\u001b[0m, in \u001b[0;36mDictWriter._dict_to_list\u001b[1;34m(self, rowdict)\u001b[0m\n\u001b[0;32m    147\u001b[0m     wrong_fields \u001b[39m=\u001b[39m rowdict\u001b[39m.\u001b[39mkeys() \u001b[39m-\u001b[39m \u001b[39mself\u001b[39m\u001b[39m.\u001b[39mfieldnames\n\u001b[0;32m    148\u001b[0m     \u001b[39mif\u001b[39;00m wrong_fields:\n\u001b[1;32m--> 149\u001b[0m         \u001b[39mraise\u001b[39;00m \u001b[39mValueError\u001b[39;00m(\u001b[39m\"\u001b[39m\u001b[39mdict contains fields not in fieldnames: \u001b[39m\u001b[39m\"\u001b[39m\n\u001b[0;32m    150\u001b[0m                          \u001b[39m+\u001b[39m \u001b[39m\"\u001b[39m\u001b[39m, \u001b[39m\u001b[39m\"\u001b[39m\u001b[39m.\u001b[39mjoin([\u001b[39mrepr\u001b[39m(x) \u001b[39mfor\u001b[39;00m x \u001b[39min\u001b[39;00m wrong_fields]))\n\u001b[0;32m    151\u001b[0m \u001b[39mreturn\u001b[39;00m (rowdict\u001b[39m.\u001b[39mget(key, \u001b[39mself\u001b[39m\u001b[39m.\u001b[39mrestval) \u001b[39mfor\u001b[39;00m key \u001b[39min\u001b[39;00m \u001b[39mself\u001b[39m\u001b[39m.\u001b[39mfieldnames)\n",
      "\u001b[1;31mValueError\u001b[0m: dict contains fields not in fieldnames: 'Size (MB)'"
     ]
    }
   ],
   "source": [
    "dir.generate_analytics('./analytics_temp.csv')"
   ]
  },
  {
   "attachments": {},
   "cell_type": "markdown",
   "metadata": {},
   "source": [
    "#### Exploring the CSV report"
   ]
  },
  {
   "cell_type": "code",
   "execution_count": null,
   "metadata": {},
   "outputs": [],
   "source": [
    "split_metadata = True\n",
    "include_text = True\n",
    "CHAR_LIMIT = 500\n",
    "\n",
    "data = [file.processor.__dict__ for file in dir.get_files()]\n",
    "\n",
    "for file in data:\n",
    "    if include_text:\n",
    "        file['metadata'] = {k: str(v)[:CHAR_LIMIT] for k, v in file['metadata'].items()}\n",
    "    elif not include_text:\n",
    "        for field in ['text', 'docstrings', 'imports', 'words', 'lines']:\n",
    "            file['metadata'].pop(field, None)\n",
    "if split_metadata:\n",
    "    data = pd.json_normalize(data, max_level=1, sep='_')\n",
    "df = pd.DataFrame(data)\n",
    "df.columns = df.columns.str.replace('metadata_', '')\n",
    "df['size'] = df['size'] / 1e6\n",
    "\n",
    "for boolean in ['is_file', 'is_symlink']:\n",
    "    df[boolean] = df[boolean].astype(int)\n",
    "\n",
    "for time in ['modification_time', 'access_time', 'creation_time']:\n",
    "    df[time] = pd.to_datetime(df[time].round(0), unit='s')\n",
    "\n",
    "df.replace(np.NaN, 'N/A', inplace=True)\n",
    "df.columns = df.columns.str.replace('_', ' ')\n",
    "df.columns = df.columns.str.title()\n",
    "df.rename(columns={'Size': 'Size (MB)'}, inplace=True)\n",
    "\n",
    "df"
   ]
  },
  {
   "cell_type": "code",
   "execution_count": null,
   "metadata": {},
   "outputs": [],
   "source": [
    "df.to_csv('./report.csv')"
   ]
  },
  {
   "attachments": {},
   "cell_type": "markdown",
   "metadata": {},
   "source": [
    "#### Filtering out the data of interest"
   ]
  },
  {
   "cell_type": "code",
   "execution_count": null,
   "metadata": {},
   "outputs": [],
   "source": [
    "fil = pd.DataFrame([{k: v for k, v in file.processor.__dict__.items() if k in ['extension', 'size']} for file in dir.get_files()])\n",
    "fil['count'] = 1\n",
    "df = fil.groupby('extension').sum()#.reset_index()\n",
    "df"
   ]
  },
  {
   "attachments": {},
   "cell_type": "markdown",
   "metadata": {},
   "source": [
    "#### Exporting the filtered data to CSV"
   ]
  },
  {
   "cell_type": "code",
   "execution_count": null,
   "metadata": {},
   "outputs": [],
   "source": [
    "df.to_csv('./analytics.csv')"
   ]
  },
  {
   "attachments": {},
   "cell_type": "markdown",
   "metadata": {},
   "source": [
    "#### Visualizing the filtered data"
   ]
  },
  {
   "cell_type": "code",
   "execution_count": null,
   "metadata": {},
   "outputs": [],
   "source": [
    "fig = plt.figure(figsize=(12, 5))\n",
    "ax = fig.add_subplot(111)\n",
    "ax2 = ax.twinx()\n",
    "ax2.yaxis.get_major_locator().set_params(integer=True)\n",
    "\n",
    "width = 0.4\n",
    "\n",
    "(df['size']/1e6).plot(kind='bar', color='#0072b2', ax=ax, width=width, position=1, label='Size (mb)')\n",
    "df['count'].plot(kind='bar', color='#88ccee', ax=ax2, width=width, position=0, label='Count')\n",
    "\n",
    "ax.set_ylabel('Size (mb)')\n",
    "ax2.set_ylabel('Count')\n",
    "ax.set_xlabel('File type')\n",
    "\n",
    "plt.legend()\n",
    "plt.title('File types by Count and Size (mb)')\n"
   ]
  },
  {
   "cell_type": "code",
   "execution_count": null,
   "metadata": {},
   "outputs": [],
   "source": [
    "import matplotlib.pyplot as plt\n",
    "\n",
    "labels = df.index\n",
    "sizes = df['size']\n",
    "\n",
    "cmap = plt.get_cmap(\"Pastel2\")\n",
    "\n",
    "plt.title('Pie chart of file types by size')\n",
    "plt.pie(sizes, labels=labels, colors=cmap(np.arange(11)*4))\n",
    "plt.show()"
   ]
  }
 ],
 "metadata": {
  "kernelspec": {
   "display_name": ".venv",
   "language": "python",
   "name": "python3"
  },
  "language_info": {
   "codemirror_mode": {
    "name": "ipython",
    "version": 3
   },
   "file_extension": ".py",
   "mimetype": "text/x-python",
   "name": "python",
   "nbconvert_exporter": "python",
   "pygments_lexer": "ipython3",
   "version": "3.10.4"
  },
  "orig_nbformat": 4
 },
 "nbformat": 4,
 "nbformat_minor": 2
}
