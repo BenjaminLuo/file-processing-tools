{
 "cells": [
  {
   "attachments": {},
   "cell_type": "markdown",
   "metadata": {},
   "source": [
    "### Overview\n",
    "\n",
    "This JupyTer notebook demonstrates the extraction of metadata from all files of a given directory into a `.csv` file. It then performs analytics on the types of files contained in the directory"
   ]
  },
  {
   "cell_type": "code",
   "execution_count": 1,
   "metadata": {},
   "outputs": [],
   "source": [
    "from file_processing import Directory"
   ]
  },
  {
   "attachments": {},
   "cell_type": "markdown",
   "metadata": {},
   "source": [
    "#### Defining the directory to analyze\n",
    "\n",
    "Point to the directory of interest. For absolute paths, format using one of these formats: `r'C:\\...\\...'` or `'C:\\\\...\\\\'` or `'C:/.../...'`"
   ]
  },
  {
   "cell_type": "code",
   "execution_count": 2,
   "metadata": {},
   "outputs": [],
   "source": [
    "dire = Directory('./tests/resources/')"
   ]
  },
  {
   "attachments": {},
   "cell_type": "markdown",
   "metadata": {},
   "source": [
    "#### Exploring the CSV report\n",
    "\n",
    "`dire.generate_report()` accepts the following:\n",
    "\n",
    "* `report_file` (str): Path to the output csv file\n",
    "* `include_text` (bool; False): Whether to include text data from the files in the report\n",
    "* `filters` (dict; None): Inclusion/exclusion criteria\n",
    "* `keywords` (list; None): A list of keywords to count in the 'text' field of the metadata\n",
    "* `migrate_filters` (dict; None): Adds a boolean column with 1 if the file satisfies the input criteria, else 0\n",
    "* `open_files` (bool; True): Whether to open the files to extract file-specific metadata\n",
    "* `split_metadata` (bool; False): Whether to split the file-specific metadata object such that each field has its own column\n",
    "* `char_limit` (int; 3000): The cut-off length for each metadata field\n",
    "\n",
    "Sample filter parameter:\n",
    "\n",
    "```py\n",
    "filter = {\n",
    "    'exclude_str': ['.venv', '.pytest_cache', '.vscode', '__pycache__']         # direectories or specific files to EXCLUDE\n",
    "    'include_str': ['file_processing', 'tests', '__init.py__'],                 # direectories or specific files to INCLUDE\n",
    "    'extensions': ['.csv', '.docx', '.pptx', '.xlsx', '.pdf'],                  # file extensions to INCLUDE\n",
    "    'exclude_extensions': ['.tmp', '', '.py'],                                  # file extensions to EXCLUDE\n",
    "    'min_size': 10000,                                                          # minimum file size (in bytes)\n",
    "    'max_size': 50000                                                           # maximum file size (in bytes)\n",
    "}\n",
    "```"
   ]
  },
  {
   "cell_type": "code",
   "execution_count": 3,
   "metadata": {},
   "outputs": [
    {
     "name": "stderr",
     "output_type": "stream",
     "text": [
      "Processing files:  72%|███████▏  | 89/124 [00:47<00:02, 14.26file/s]invalid pdf header: b'U\\x85[\\x9c\\xc0'\n",
      "EOF marker not found\n",
      "Processing files: 100%|██████████| 124/124 [00:47<00:00,  2.60file/s]\n"
     ]
    }
   ],
   "source": [
    "dire.generate_report(report_file='./docs/sample_reports/report.csv', \n",
    "                    split_metadata=True, \n",
    "                    filters={'exclude_str': ['.venv', '.pytest_cache', '.vscode', '__pycache__', '.git']},\n",
    "                    migrate_filters={'extensions': ['.csv', '.docx', '.pdf', '.pptx']},\n",
    "                    include_text=True,\n",
    "                    keywords=['Health', 'Canada', 'Classified', 'Protected'])"
   ]
  },
  {
   "attachments": {},
   "cell_type": "markdown",
   "metadata": {},
   "source": [
    "#### Filtering out the data of interest"
   ]
  },
  {
   "cell_type": "code",
   "execution_count": 4,
   "metadata": {},
   "outputs": [
    {
     "name": "stderr",
     "output_type": "stream",
     "text": [
      "Processing files: 100%|██████████| 124/124 [00:00<00:00, 125.54file/s]\n"
     ]
    },
    {
     "data": {
      "text/html": [
       "<div>\n",
       "<style scoped>\n",
       "    .dataframe tbody tr th:only-of-type {\n",
       "        vertical-align: middle;\n",
       "    }\n",
       "\n",
       "    .dataframe tbody tr th {\n",
       "        vertical-align: top;\n",
       "    }\n",
       "\n",
       "    .dataframe thead th {\n",
       "        text-align: right;\n",
       "    }\n",
       "</style>\n",
       "<table border=\"1\" class=\"dataframe\">\n",
       "  <thead>\n",
       "    <tr style=\"text-align: right;\">\n",
       "      <th></th>\n",
       "      <th>size (MB)</th>\n",
       "      <th>count</th>\n",
       "    </tr>\n",
       "  </thead>\n",
       "  <tbody>\n",
       "    <tr>\n",
       "      <th>.abcd</th>\n",
       "      <td>0.000020</td>\n",
       "      <td>1</td>\n",
       "    </tr>\n",
       "    <tr>\n",
       "      <th>.aiff</th>\n",
       "      <td>0.101814</td>\n",
       "      <td>1</td>\n",
       "    </tr>\n",
       "    <tr>\n",
       "      <th>.csv</th>\n",
       "      <td>17.562307</td>\n",
       "      <td>4</td>\n",
       "    </tr>\n",
       "    <tr>\n",
       "      <th>.docx</th>\n",
       "      <td>0.097953</td>\n",
       "      <td>6</td>\n",
       "    </tr>\n",
       "    <tr>\n",
       "      <th>.flac</th>\n",
       "      <td>0.211733</td>\n",
       "      <td>1</td>\n",
       "    </tr>\n",
       "    <tr>\n",
       "      <th>.gif</th>\n",
       "      <td>4.332710</td>\n",
       "      <td>6</td>\n",
       "    </tr>\n",
       "    <tr>\n",
       "      <th>.heic</th>\n",
       "      <td>0.224590</td>\n",
       "      <td>2</td>\n",
       "    </tr>\n",
       "    <tr>\n",
       "      <th>.heif</th>\n",
       "      <td>0.224590</td>\n",
       "      <td>2</td>\n",
       "    </tr>\n",
       "    <tr>\n",
       "      <th>.html</th>\n",
       "      <td>0.503157</td>\n",
       "      <td>3</td>\n",
       "    </tr>\n",
       "    <tr>\n",
       "      <th>.jpeg</th>\n",
       "      <td>0.008800</td>\n",
       "      <td>1</td>\n",
       "    </tr>\n",
       "    <tr>\n",
       "      <th>.jpg</th>\n",
       "      <td>3.949606</td>\n",
       "      <td>5</td>\n",
       "    </tr>\n",
       "    <tr>\n",
       "      <th>.json</th>\n",
       "      <td>2.098336</td>\n",
       "      <td>3</td>\n",
       "    </tr>\n",
       "    <tr>\n",
       "      <th>.mp3</th>\n",
       "      <td>0.045261</td>\n",
       "      <td>2</td>\n",
       "    </tr>\n",
       "    <tr>\n",
       "      <th>.mp4</th>\n",
       "      <td>0.110016</td>\n",
       "      <td>1</td>\n",
       "    </tr>\n",
       "    <tr>\n",
       "      <th>.msg</th>\n",
       "      <td>0.563200</td>\n",
       "      <td>4</td>\n",
       "    </tr>\n",
       "    <tr>\n",
       "      <th>.ogg</th>\n",
       "      <td>0.065814</td>\n",
       "      <td>1</td>\n",
       "    </tr>\n",
       "    <tr>\n",
       "      <th>.pdf</th>\n",
       "      <td>1.627953</td>\n",
       "      <td>11</td>\n",
       "    </tr>\n",
       "    <tr>\n",
       "      <th>.png</th>\n",
       "      <td>17.004074</td>\n",
       "      <td>7</td>\n",
       "    </tr>\n",
       "    <tr>\n",
       "      <th>.pptx</th>\n",
       "      <td>100.475886</td>\n",
       "      <td>8</td>\n",
       "    </tr>\n",
       "    <tr>\n",
       "      <th>.py</th>\n",
       "      <td>0.328377</td>\n",
       "      <td>3</td>\n",
       "    </tr>\n",
       "    <tr>\n",
       "      <th>.rtf</th>\n",
       "      <td>0.309288</td>\n",
       "      <td>3</td>\n",
       "    </tr>\n",
       "    <tr>\n",
       "      <th>.tif</th>\n",
       "      <td>6.113650</td>\n",
       "      <td>5</td>\n",
       "    </tr>\n",
       "    <tr>\n",
       "      <th>.tiff</th>\n",
       "      <td>0.093494</td>\n",
       "      <td>4</td>\n",
       "    </tr>\n",
       "    <tr>\n",
       "      <th>.txt</th>\n",
       "      <td>0.330503</td>\n",
       "      <td>25</td>\n",
       "    </tr>\n",
       "    <tr>\n",
       "      <th>.wav</th>\n",
       "      <td>0.477484</td>\n",
       "      <td>1</td>\n",
       "    </tr>\n",
       "    <tr>\n",
       "      <th>.xlsx</th>\n",
       "      <td>0.177368</td>\n",
       "      <td>6</td>\n",
       "    </tr>\n",
       "    <tr>\n",
       "      <th>.xml</th>\n",
       "      <td>0.013525</td>\n",
       "      <td>3</td>\n",
       "    </tr>\n",
       "    <tr>\n",
       "      <th>.xyz</th>\n",
       "      <td>0.000017</td>\n",
       "      <td>1</td>\n",
       "    </tr>\n",
       "    <tr>\n",
       "      <th>.zip</th>\n",
       "      <td>0.192784</td>\n",
       "      <td>4</td>\n",
       "    </tr>\n",
       "  </tbody>\n",
       "</table>\n",
       "</div>"
      ],
      "text/plain": [
       "        size (MB)  count\n",
       ".abcd    0.000020      1\n",
       ".aiff    0.101814      1\n",
       ".csv    17.562307      4\n",
       ".docx    0.097953      6\n",
       ".flac    0.211733      1\n",
       ".gif     4.332710      6\n",
       ".heic    0.224590      2\n",
       ".heif    0.224590      2\n",
       ".html    0.503157      3\n",
       ".jpeg    0.008800      1\n",
       ".jpg     3.949606      5\n",
       ".json    2.098336      3\n",
       ".mp3     0.045261      2\n",
       ".mp4     0.110016      1\n",
       ".msg     0.563200      4\n",
       ".ogg     0.065814      1\n",
       ".pdf     1.627953     11\n",
       ".png    17.004074      7\n",
       ".pptx  100.475886      8\n",
       ".py      0.328377      3\n",
       ".rtf     0.309288      3\n",
       ".tif     6.113650      5\n",
       ".tiff    0.093494      4\n",
       ".txt     0.330503     25\n",
       ".wav     0.477484      1\n",
       ".xlsx    0.177368      6\n",
       ".xml     0.013525      3\n",
       ".xyz     0.000017      1\n",
       ".zip     0.192784      4"
      ]
     },
     "execution_count": 4,
     "metadata": {},
     "output_type": "execute_result"
    }
   ],
   "source": [
    "import pandas as pd\n",
    "\n",
    "analytics = dire.generate_analytics(report_file='./docs/sample_reports/analytics.csv', \n",
    "                                   filters={'exclude_str': ['.venv', '.pytest_cache', '.vscode', '__pycache__', '.git']})\n",
    "df = pd.DataFrame.from_dict((analytics))\n",
    "df"
   ]
  },
  {
   "attachments": {},
   "cell_type": "markdown",
   "metadata": {},
   "source": [
    "#### Visualizing the filtered data"
   ]
  },
  {
   "cell_type": "code",
   "execution_count": 11,
   "metadata": {},
   "outputs": [],
   "source": [
    "%pip install matplotlib"
   ]
  },
  {
   "cell_type": "code",
   "execution_count": 5,
   "metadata": {},
   "outputs": [
    {
     "data": {
      "text/plain": [
       "Text(0.5, 1.0, 'File types by Count and Size (mb)')"
      ]
     },
     "execution_count": 5,
     "metadata": {},
     "output_type": "execute_result"
    },
    {
     "data": {
      "image/png": "[encoded data removed]",
      "text/plain": [
       "<Figure size 1200x500 with 2 Axes>"
      ]
     },
     "metadata": {},
     "output_type": "display_data"
    }
   ],
   "source": [
    "import matplotlib.pyplot as plt\n",
    "\n",
    "fig = plt.figure(figsize=(12, 5))\n",
    "ax = fig.add_subplot(111)\n",
    "ax2 = ax.twinx()\n",
    "ax2.yaxis.get_major_locator().set_params(integer=True)\n",
    "\n",
    "width = 0.4\n",
    "\n",
    "(df['size (MB)']).plot(kind='bar', color='#0072b2', ax=ax, width=width, position=1, label='Size (mb)')\n",
    "df['count'].plot(kind='bar', color='#88ccee', ax=ax2, width=width, position=0, label='Count')\n",
    "\n",
    "ax.set_ylabel('Size (mb)')\n",
    "ax2.set_ylabel('Count')\n",
    "ax.set_xlabel('File type')\n",
    "\n",
    "plt.legend()\n",
    "plt.title('File types by Count and Size (mb)')\n"
   ]
  },
  {
   "cell_type": "code",
   "execution_count": 6,
   "metadata": {},
   "outputs": [
    {
     "data": {
      "image/png": "[encoded data removed]",
      "text/plain": [
       "<Figure size 640x480 with 1 Axes>"
      ]
     },
     "metadata": {},
     "output_type": "display_data"
    }
   ],
   "source": [
    "import numpy as np\n",
    "\n",
    "labels = df.index\n",
    "sizes = df['size (MB)']\n",
    "\n",
    "cmap = plt.get_cmap(\"Pastel2\")\n",
    "\n",
    "plt.title('Pie chart of file types by size')\n",
    "plt.pie(sizes, labels=labels, colors=cmap(np.arange(3)*4))\n",
    "plt.show()"
   ]
  },
  {
   "attachments": {},
   "cell_type": "markdown",
   "metadata": {},
   "source": [
    "#### Identifying similar files"
   ]
  },
  {
   "attachments": {},
   "cell_type": "markdown",
   "metadata": {},
   "source": [
    "The below example uses **cosine** similarity (`threshold=0`) and returns a grid comparing every file against each other"
   ]
  },
  {
   "cell_type": "code",
   "execution_count": 7,
   "metadata": {},
   "outputs": [],
   "source": [
    "dire = Directory('./tests/resources/similarity_test_files/')"
   ]
  },
  {
   "cell_type": "code",
   "execution_count": 8,
   "metadata": {},
   "outputs": [
    {
     "name": "stderr",
     "output_type": "stream",
     "text": [
      "Processing files: 100%|██████████| 20/20 [00:00<00:00, 49.16file/s]\n",
      "c:\\Users\\BLUO\\Downloads\\report\\.venv\\lib\\site-packages\\torch\\_utils.py:831: UserWarning: TypedStorage is deprecated. It will be removed in the future and UntypedStorage will be the only storage class. This should only matter to you if you are using storages directly.  To access UntypedStorage directly, use tensor.untyped_storage() instead of tensor.storage()\n",
      "  return self.fget.__get__(instance, owner)()\n"
     ]
    }
   ],
   "source": [
    "dire.identify_duplicates(report_file='./docs/sample_reports/similarity_cosine.csv',\n",
    "                        filters={}, \n",
    "                        threshold=0,\n",
    "                        top_n=0,\n",
    "                        use_abs_path=True)"
   ]
  },
  {
   "attachments": {},
   "cell_type": "markdown",
   "metadata": {},
   "source": [
    "Alternatively, it is possible to use **FAISS** indexes by specifying a threshold"
   ]
  },
  {
   "cell_type": "code",
   "execution_count": 9,
   "metadata": {},
   "outputs": [
    {
     "name": "stderr",
     "output_type": "stream",
     "text": [
      "Processing files: 100%|██████████| 20/20 [00:00<00:00, 49.10file/s]\n"
     ]
    }
   ],
   "source": [
    "dire.identify_duplicates(report_file='./docs/sample_reports/similarity_faiss.csv',\n",
    "                        filters={'min_size': 1000}, \n",
    "                        threshold=0.1,\n",
    "                        top_n=3,\n",
    "                        use_abs_path=False)"
   ]
  }
 ],
 "metadata": {
  "kernelspec": {
   "display_name": ".venv",
   "language": "python",
   "name": "python3"
  },
  "language_info": {
   "codemirror_mode": {
    "name": "ipython",
    "version": 3
   },
   "file_extension": ".py",
   "mimetype": "text/x-python",
   "name": "python",
   "nbconvert_exporter": "python",
   "pygments_lexer": "ipython3",
   "version": "3.10.4"
  },
  "orig_nbformat": 4
 },
 "nbformat": 4,
 "nbformat_minor": 2
}
