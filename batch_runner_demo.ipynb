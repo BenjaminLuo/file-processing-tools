{
 "cells": [
  {
   "attachments": {},
   "cell_type": "markdown",
   "metadata": {},
   "source": [
    "Issue: Still loads everything at once. Needs to be done in a for loop instead of list comprehension and if possible in the generator function"
   ]
  },
  {
   "cell_type": "code",
   "execution_count": 5,
   "metadata": {},
   "outputs": [],
   "source": [
    "import os\n",
    "\n",
    "def dataset(file_path):\n",
    "    for dirpath, _, filenames in os.walk(file_path):\n",
    "        for filename in filenames:\n",
    "            yield os.path.join(dirpath, filename)\n",
    "\n",
    "def dataloader(data_generator, batch_size):\n",
    "    data = list(data_generator)\n",
    "    return [data[i:i + batch_size] for i in range(0, len(data), batch_size)]\n",
    "\n",
    "batches = dataloader(dataset('./tests/resources'), batch_size=10)"
   ]
  },
  {
   "cell_type": "code",
   "execution_count": 7,
   "metadata": {},
   "outputs": [
    {
     "data": {
      "text/plain": [
       "[['./tests/resources\\\\directory_test_files\\\\2021_Census_English.csv',\n",
       "  './tests/resources\\\\directory_test_files\\\\ArtificialNeuralNetworksForBeginners.pdf',\n",
       "  './tests/resources\\\\directory_test_files\\\\ArtificialNeuralNetworksForBeginners_Locked.pdf',\n",
       "  './tests/resources\\\\directory_test_files\\\\government_of_canada_wikipedia.txt',\n",
       "  './tests/resources\\\\directory_test_files\\\\Health - Canada.ca.html',\n",
       "  './tests/resources\\\\directory_test_files\\\\HealthCanadaOverviewFromWikipedia_Locked.docx',\n",
       "  './tests/resources\\\\directory_test_files\\\\Health_Canada_logo.png',\n",
       "  './tests/resources\\\\directory_test_files\\\\Microsoft Copilot Presentation - Copy.pptx',\n",
       "  './tests/resources\\\\directory_test_files\\\\Test Email.msg',\n",
       "  './tests/resources\\\\directory_test_files\\\\Test_excel_file.xlsx'],\n",
       " ['./tests/resources\\\\directory_test_files\\\\!@#$%^&()\\\\Sample.xml',\n",
       "  './tests/resources\\\\directory_test_files\\\\0.1.2.3.4.5\\\\HealthCanadaOverviewFromWikipedia.pptx',\n",
       "  './tests/resources\\\\directory_test_files\\\\directory_test_files\\\\HealthCanadaOverviewFromWikipedia.pptx',\n",
       "  './tests/resources\\\\directory_test_files\\\\directory_test_files\\\\directory_test_files\\\\SampleReport.zip',\n",
       "  './tests/resources\\\\directory_test_files\\\\\\xa0\\\\New folder\\\\Test_for_RTF.rtf',\n",
       "  './tests/resources\\\\directory_test_files_corrupted\\\\government_of_canada_wikipedia_corrupted.txt',\n",
       "  './tests/resources\\\\similarity_test_files\\\\aviation_safety.txt',\n",
       "  './tests/resources\\\\similarity_test_files\\\\canadian_constitution.txt',\n",
       "  './tests/resources\\\\similarity_test_files\\\\climate_change_causes.txt',\n",
       "  './tests/resources\\\\similarity_test_files\\\\coronavirus_symptoms.txt']]"
      ]
     },
     "execution_count": 7,
     "metadata": {},
     "output_type": "execute_result"
    }
   ],
   "source": [
    "batches[0:2]"
   ]
  },
  {
   "cell_type": "code",
   "execution_count": null,
   "metadata": {},
   "outputs": [],
   "source": []
  }
 ],
 "metadata": {
  "kernelspec": {
   "display_name": ".venv",
   "language": "python",
   "name": "python3"
  },
  "language_info": {
   "codemirror_mode": {
    "name": "ipython",
    "version": 3
   },
   "file_extension": ".py",
   "mimetype": "text/x-python",
   "name": "python",
   "nbconvert_exporter": "python",
   "pygments_lexer": "ipython3",
   "version": "3.10.4"
  },
  "orig_nbformat": 4
 },
 "nbformat": 4,
 "nbformat_minor": 2
}
