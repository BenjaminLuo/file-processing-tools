{
 "cells": [
  {
   "cell_type": "code",
   "execution_count": 1,
   "metadata": {},
   "outputs": [
    {
     "name": "stdout",
     "output_type": "stream",
     "text": [
      "Collecting pydub\n",
      "  Downloading pydub-0.25.1-py2.py3-none-any.whl (32 kB)\n",
      "Installing collected packages: pydub\n",
      "Successfully installed pydub-0.25.1\n",
      "Note: you may need to restart the kernel to use updated packages.\n"
     ]
    }
   ],
   "source": [
    "%pip install pydub"
   ]
  },
  {
   "cell_type": "code",
   "execution_count": 4,
   "metadata": {},
   "outputs": [],
   "source": [
    "from pydub import AudioSegment\n",
    "import os\n",
    "\n",
    "# wav mp3 mp4 flac aiff ogg\n",
    "def convert(path, file_name, new_name, format):\n",
    "    flac_audio = AudioSegment.from_file(os.path.join(path, file_name), \"flac\")\n",
    "    flac_audio.export(f\"{new_name}.{format}\", format=format)"
   ]
  },
  {
   "cell_type": "code",
   "execution_count": 5,
   "metadata": {},
   "outputs": [],
   "source": [
    "convert(\n",
    "    path='../clean_000040',\n",
    "    file_name='14415EAR3615_SLASH_14415_SPACE_EAR_SPACE_3-6-15_DOT_mp3_00080.flac',\n",
    "    new_name='sample_speech',\n",
    "    format='mp3'\n",
    ")"
   ]
  },
  {
   "cell_type": "code",
   "execution_count": 27,
   "metadata": {},
   "outputs": [
    {
     "data": {
      "text/plain": [
       "0.9380530973451328"
      ]
     },
     "execution_count": 27,
     "metadata": {},
     "output_type": "execute_result"
    }
   ],
   "source": [
    "# import whisper\n",
    "from sentence_transformers import SentenceTransformer\n",
    "from Levenshtein import ratio\n",
    "\n",
    "# model = whisper.load_model('base')\n",
    "\n",
    "# for file_type in ['wav']:\n",
    "#     text = model.transcribe(f'./tests/resources/test_files/sample_speech.{file_type}')['text']\n",
    "#     print(file_type, text)\n",
    "\n",
    "data = [\n",
    "    \"to at least with us. They go through an extensive counseling process and legal review with summaries of it, with sign statements that they understand what they're getting themselves into and what they have to do and what they own and what they don't own and they own the amount of money they're\",\n",
    "    \"into a lease with us they go through an extensive counseling process and legal review with summaries of it with signed statements that they understand what they're getting themselves into and what they have to do and what they own and what they don't own and they own the\",\n",
    "]\n",
    "\n",
    "# encoder = SentenceTransformer(\"paraphrase-MiniLM-L3-v2\")\n",
    "# vectors = encoder.encode(data)\n",
    "# vectors\n",
    "\n",
    "ratio(data[0], data[1])\n",
    "\n",
    "# true = [\"and thank you for your continued support thank you\",\n",
    "# \"into a lease with us they go through an extensive counseling process and legal review with summaries of it with signed statements that they understand what they're getting themselves into and what they have to do and what they own and what they don't own and they own the\",\n",
    "# \"from our volunteers in maui county when the storms on top of us or a disaster is headed our way or a disaster has just happened because they truly love the work that they're doing and there's something that draws them to red cross something from the heart where\",\n",
    "# \"we're definitely in support of this concept and we'll figure a way to make it work very good and then i know it's a work in progress but in relation to enforcement any type\",\n",
    "# \"mr clarke mr chair proceeding with committee reports you have before you from your policy an intergovernmental affairs committee committee report fifteen dash fifteen recommending the adoption of the resolution\",\n",
    "# \"into a lease with us they go through an extensive counseling process and legal review with summaries of it with signed statements that they understand what they're getting themselves into and what they have to do and what they own and what they don't own and they own the\"]\n",
    "\n",
    "# b = [\"and thank you for your continued support. Thank you.\",\n",
    "# \"to at least with us. They go through an extensive counseling process and legal review with summaries of it, with sign statements that they understand what they're getting themselves into and what they have to do and what they own and what they don't own and they own the amount of money they're\",\n",
    "# \"from our volunteers in Maui County, when a storm's on top of us or a disaster is headed our way, or a disaster has just happened, because they truly love the work that they're doing. And there's something that draws them to red cross something from the heart where,\",\n",
    "# \"We're definitely in support of this concept and we'll figure a way to make it work. Okay, well very good. And then I know it's a work in progress, but in relation to enforcement, any type of...\",\n",
    "# \"Mr. Clerk. Mr. Chair, proceeding with committee reports. You have before you from your policy and intergovernmental affairs committee, committee report 15-15, recommending the adoption of the resolution\",\n",
    "# \"to at least with us. They go through an extensive counseling process and legal review with summaries of it, with sign statements that they understand what they're getting themselves into and what they have to do and what they own and what they don't own and they own the amount of money they're\"]\n",
    "\n",
    "# for i, _ in enumerate(true):\n",
    "#     bi = b[i].lower().replace('.', '').replace(',', '')\n",
    "\n",
    "#     print(true[i] == bi)"
   ]
  },
  {
   "cell_type": "code",
   "execution_count": 1,
   "metadata": {},
   "outputs": [
    {
     "name": "stdout",
     "output_type": "stream",
     "text": [
      "{'bitrate': 24000, 'length': 15.012, 'artist': '', 'date': '', 'title': '', 'organization': ''}\n"
     ]
    }
   ],
   "source": [
    "from file_processing import File\n",
    "\n",
    "for file in [\"tests/resources/test_files/sample_speech.mp3\"]:\n",
    "    print(File(file).metadata)\n"
   ]
  },
  {
   "cell_type": "code",
   "execution_count": 12,
   "metadata": {},
   "outputs": [
    {
     "data": {
      "text/plain": [
       "True"
      ]
     },
     "execution_count": 12,
     "metadata": {},
     "output_type": "execute_result"
    }
   ],
   "source": [
    "from mutagen import File as MutagenFile\n",
    "from mutagen.mp3 import MP3\n",
    "from mutagen.mp4 import MP4\n",
    "\n",
    "file = MutagenFile(\"tests/resources/test_files/sample_speech.mp3\")\n",
    "\n",
    "isinstance(file, MP3)"
   ]
  },
  {
   "cell_type": "code",
   "execution_count": 22,
   "metadata": {},
   "outputs": [],
   "source": [
    "import os\n",
    "import random\n",
    "\n",
    "def corrupt_mp3(file_path):\n",
    "    # Calculate the size of the file in bytes\n",
    "    file_size = os.stat(file_path).st_size\n",
    "    \n",
    "    # Determine how many bytes to corrupt\n",
    "    corruption_count = random.randint(100, 500) # Example range, adjust as needed\n",
    "    \n",
    "    # Ensure we don't exceed the file size\n",
    "    corruption_count = min(corruption_count, file_size)\n",
    "    \n",
    "    # Read the file into memory\n",
    "    with open(file_path, 'rb') as f:\n",
    "        file_data = bytearray(f.read())\n",
    "    \n",
    "    # Choose random positions within the file to corrupt\n",
    "    corruption_positions = set()\n",
    "    while len(corruption_positions) < corruption_count:\n",
    "        corruption_positions.add(random.randint(0, file_size - 1))\n",
    "    \n",
    "    # Replace the chosen bytes with random values\n",
    "    for pos in corruption_positions:\n",
    "        file_data[pos] = random.randint(0, 255)\n",
    "    \n",
    "    # Write the corrupted data back to the file\n",
    "    with open(file_path, 'wb') as f:\n",
    "        f.write(file_data)\n",
    "\n",
    "# Example usage:\n",
    "corrupt_mp3(r'C:\\Users\\BLUO\\Downloads\\report\\sample_speech.mp3')"
   ]
  },
  {
   "cell_type": "code",
   "execution_count": 1,
   "metadata": {},
   "outputs": [
    {
     "ename": "FileProcessingFailedError",
     "evalue": "Error encountered while processing: can't sync to MPEG frame",
     "output_type": "error",
     "traceback": [
      "\u001b[1;31m---------------------------------------------------------------------------\u001b[0m",
      "\u001b[1;31mHeaderNotFoundError\u001b[0m                       Traceback (most recent call last)",
      "File \u001b[1;32mc:\\Users\\BLUO\\Downloads\\report\\file_processing\\processors\\audio_processor.py:22\u001b[0m, in \u001b[0;36mAudioFileProcessor.process\u001b[1;34m(self)\u001b[0m\n\u001b[0;32m     21\u001b[0m \u001b[39mtry\u001b[39;00m:\n\u001b[1;32m---> 22\u001b[0m     audio \u001b[39m=\u001b[39m File(\u001b[39mself\u001b[39;49m\u001b[39m.\u001b[39;49mfile_path)\n\u001b[0;32m     23\u001b[0m     \u001b[39mif\u001b[39;00m \u001b[39misinstance\u001b[39m(audio, MP3):\n",
      "File \u001b[1;32mc:\\Users\\BLUO\\Downloads\\report\\.venv\\lib\\site-packages\\mutagen\\_util.py:164\u001b[0m, in \u001b[0;36mloadfile.<locals>.wrap.<locals>.wrapper_func\u001b[1;34m(*args, **kwargs)\u001b[0m\n\u001b[0;32m    162\u001b[0m \u001b[39mwith\u001b[39;00m _openfile(\u001b[39mNone\u001b[39;00m, filething, filename, fileobj,\n\u001b[0;32m    163\u001b[0m                writable, create) \u001b[39mas\u001b[39;00m h:\n\u001b[1;32m--> 164\u001b[0m     \u001b[39mreturn\u001b[39;00m func(h, \u001b[39m*\u001b[39margs, \u001b[39m*\u001b[39m\u001b[39m*\u001b[39mkwargs)\n",
      "File \u001b[1;32mc:\\Users\\BLUO\\Downloads\\report\\.venv\\lib\\site-packages\\mutagen\\_file.py:302\u001b[0m, in \u001b[0;36mFile\u001b[1;34m(filething, options, easy)\u001b[0m\n\u001b[0;32m    301\u001b[0m         \u001b[39mpass\u001b[39;00m\n\u001b[1;32m--> 302\u001b[0m     \u001b[39mreturn\u001b[39;00m Kind(fileobj, filename\u001b[39m=\u001b[39;49mfilething\u001b[39m.\u001b[39;49mfilename)\n\u001b[0;32m    303\u001b[0m \u001b[39melse\u001b[39;00m:\n",
      "File \u001b[1;32mc:\\Users\\BLUO\\Downloads\\report\\.venv\\lib\\site-packages\\mutagen\\_file.py:48\u001b[0m, in \u001b[0;36mFileType.__init__\u001b[1;34m(self, *args, **kwargs)\u001b[0m\n\u001b[0;32m     47\u001b[0m \u001b[39melse\u001b[39;00m:\n\u001b[1;32m---> 48\u001b[0m     \u001b[39mself\u001b[39m\u001b[39m.\u001b[39mload(\u001b[39m*\u001b[39margs, \u001b[39m*\u001b[39m\u001b[39m*\u001b[39mkwargs)\n",
      "File \u001b[1;32mc:\\Users\\BLUO\\Downloads\\report\\.venv\\lib\\site-packages\\mutagen\\_util.py:156\u001b[0m, in \u001b[0;36mloadfile.<locals>.wrap.<locals>.wrapper\u001b[1;34m(self, *args, **kwargs)\u001b[0m\n\u001b[0;32m    154\u001b[0m \u001b[39mwith\u001b[39;00m _openfile(\u001b[39mself\u001b[39m, filething, filename, fileobj,\n\u001b[0;32m    155\u001b[0m                writable, create) \u001b[39mas\u001b[39;00m h:\n\u001b[1;32m--> 156\u001b[0m     \u001b[39mreturn\u001b[39;00m func(\u001b[39mself\u001b[39m, h, \u001b[39m*\u001b[39margs, \u001b[39m*\u001b[39m\u001b[39m*\u001b[39mkwargs)\n",
      "File \u001b[1;32mc:\\Users\\BLUO\\Downloads\\report\\.venv\\lib\\site-packages\\mutagen\\id3\\_file.py:420\u001b[0m, in \u001b[0;36mID3FileType.load\u001b[1;34m(self, filething, ID3, **kwargs)\u001b[0m\n\u001b[0;32m    418\u001b[0m     offset \u001b[39m=\u001b[39m \u001b[39mNone\u001b[39;00m\n\u001b[1;32m--> 420\u001b[0m \u001b[39mself\u001b[39m\u001b[39m.\u001b[39minfo \u001b[39m=\u001b[39m \u001b[39mself\u001b[39;49m\u001b[39m.\u001b[39;49m_Info(fileobj, offset)\n",
      "File \u001b[1;32mc:\\Users\\BLUO\\Downloads\\report\\.venv\\lib\\site-packages\\mutagen\\_util.py:185\u001b[0m, in \u001b[0;36mconvert_error.<locals>.wrap.<locals>.wrapper\u001b[1;34m(*args, **kwargs)\u001b[0m\n\u001b[0;32m    184\u001b[0m \u001b[39mtry\u001b[39;00m:\n\u001b[1;32m--> 185\u001b[0m     \u001b[39mreturn\u001b[39;00m func(\u001b[39m*\u001b[39margs, \u001b[39m*\u001b[39m\u001b[39m*\u001b[39mkwargs)\n\u001b[0;32m    186\u001b[0m \u001b[39mexcept\u001b[39;00m exc_dest:\n",
      "File \u001b[1;32mc:\\Users\\BLUO\\Downloads\\report\\.venv\\lib\\site-packages\\mutagen\\mp3\\__init__.py:401\u001b[0m, in \u001b[0;36mMPEGInfo.__init__\u001b[1;34m(self, fileobj, offset)\u001b[0m\n\u001b[0;32m    400\u001b[0m \u001b[39mif\u001b[39;00m first_frame \u001b[39mis\u001b[39;00m \u001b[39mNone\u001b[39;00m:\n\u001b[1;32m--> 401\u001b[0m     \u001b[39mraise\u001b[39;00m HeaderNotFoundError(\u001b[39m\"\u001b[39m\u001b[39mcan\u001b[39m\u001b[39m'\u001b[39m\u001b[39mt sync to MPEG frame\u001b[39m\u001b[39m\"\u001b[39m)\n\u001b[0;32m    403\u001b[0m \u001b[39massert\u001b[39;00m first_frame\n",
      "\u001b[1;31mHeaderNotFoundError\u001b[0m: can't sync to MPEG frame",
      "\nDuring handling of the above exception, another exception occurred:\n",
      "\u001b[1;31mFileProcessingFailedError\u001b[0m                 Traceback (most recent call last)",
      "Cell \u001b[1;32mIn[1], line 2\u001b[0m\n\u001b[0;32m      1\u001b[0m \u001b[39mfrom\u001b[39;00m \u001b[39mfile_processing\u001b[39;00m \u001b[39mimport\u001b[39;00m File\n\u001b[1;32m----> 2\u001b[0m File(\u001b[39mr\u001b[39;49m\u001b[39m'\u001b[39;49m\u001b[39mC:\u001b[39;49m\u001b[39m\\\u001b[39;49m\u001b[39mUsers\u001b[39;49m\u001b[39m\\\u001b[39;49m\u001b[39mBLUO\u001b[39;49m\u001b[39m\\\u001b[39;49m\u001b[39mDownloads\u001b[39;49m\u001b[39m\\\u001b[39;49m\u001b[39mreport\u001b[39;49m\u001b[39m\\\u001b[39;49m\u001b[39msample_speech.mp3\u001b[39;49m\u001b[39m'\u001b[39;49m)\u001b[39m.\u001b[39mmetadata\n",
      "File \u001b[1;32mc:\\Users\\BLUO\\Downloads\\report\\file_processing\\file.py:46\u001b[0m, in \u001b[0;36mFile.__init__\u001b[1;34m(self, path, use_ocr, use_transcriber, open_file)\u001b[0m\n\u001b[0;32m     43\u001b[0m \u001b[39mself\u001b[39m\u001b[39m.\u001b[39mpath \u001b[39m=\u001b[39m Path(path)\n\u001b[0;32m     44\u001b[0m \u001b[39mself\u001b[39m\u001b[39m.\u001b[39mprocessor \u001b[39m=\u001b[39m \u001b[39mself\u001b[39m\u001b[39m.\u001b[39m_get_processor(\n\u001b[0;32m     45\u001b[0m     use_ocr, use_transcriber, open_file)\n\u001b[1;32m---> 46\u001b[0m \u001b[39mself\u001b[39;49m\u001b[39m.\u001b[39;49mprocess()\n",
      "File \u001b[1;32mc:\\Users\\BLUO\\Downloads\\report\\file_processing\\file.py:79\u001b[0m, in \u001b[0;36mFile.process\u001b[1;34m(self)\u001b[0m\n\u001b[0;32m     78\u001b[0m \u001b[39mdef\u001b[39;00m \u001b[39mprocess\u001b[39m(\u001b[39mself\u001b[39m) \u001b[39m-\u001b[39m\u001b[39m>\u001b[39m \u001b[39mNone\u001b[39;00m:\n\u001b[1;32m---> 79\u001b[0m     \u001b[39mreturn\u001b[39;00m \u001b[39mself\u001b[39;49m\u001b[39m.\u001b[39;49mprocessor\u001b[39m.\u001b[39;49mprocess()\n",
      "File \u001b[1;32mc:\\Users\\BLUO\\Downloads\\report\\file_processing\\processors\\audio_processor.py:63\u001b[0m, in \u001b[0;36mAudioFileProcessor.process\u001b[1;34m(self)\u001b[0m\n\u001b[0;32m     54\u001b[0m         \u001b[39mself\u001b[39m\u001b[39m.\u001b[39mmetadata\u001b[39m.\u001b[39mupdate({\n\u001b[0;32m     55\u001b[0m             \u001b[39m'\u001b[39m\u001b[39mbitrate\u001b[39m\u001b[39m'\u001b[39m: audio\u001b[39m.\u001b[39minfo\u001b[39m.\u001b[39mbitrate,\n\u001b[0;32m     56\u001b[0m             \u001b[39m'\u001b[39m\u001b[39mlength\u001b[39m\u001b[39m'\u001b[39m: audio\u001b[39m.\u001b[39minfo\u001b[39m.\u001b[39mlength,\n\u001b[1;32m   (...)\u001b[0m\n\u001b[0;32m     60\u001b[0m             \u001b[39m'\u001b[39m\u001b[39morganization\u001b[39m\u001b[39m'\u001b[39m: audio\u001b[39m.\u001b[39mtags\u001b[39m.\u001b[39mget(\u001b[39m'\u001b[39m\u001b[39morganization\u001b[39m\u001b[39m'\u001b[39m, [\u001b[39m'\u001b[39m\u001b[39m'\u001b[39m])[\u001b[39m0\u001b[39m]\n\u001b[0;32m     61\u001b[0m         })\n\u001b[0;32m     62\u001b[0m \u001b[39mexcept\u001b[39;00m \u001b[39mException\u001b[39;00m \u001b[39mas\u001b[39;00m e:\n\u001b[1;32m---> 63\u001b[0m     \u001b[39mraise\u001b[39;00m FileProcessingFailedError(\u001b[39mf\u001b[39m\u001b[39m\"\u001b[39m\u001b[39mError encountered while processing: \u001b[39m\u001b[39m{\u001b[39;00me\u001b[39m}\u001b[39;00m\u001b[39m\"\u001b[39m)\n",
      "\u001b[1;31mFileProcessingFailedError\u001b[0m: Error encountered while processing: can't sync to MPEG frame"
     ]
    }
   ],
   "source": [
    "from file_processing import File\n",
    "File(r'C:\\Users\\BLUO\\Downloads\\report\\sample_speech.mp3').metadata"
   ]
  }
 ],
 "metadata": {
  "kernelspec": {
   "display_name": ".venv",
   "language": "python",
   "name": "python3"
  },
  "language_info": {
   "codemirror_mode": {
    "name": "ipython",
    "version": 3
   },
   "file_extension": ".py",
   "mimetype": "text/x-python",
   "name": "python",
   "nbconvert_exporter": "python",
   "pygments_lexer": "ipython3",
   "version": "3.10.4"
  },
  "orig_nbformat": 4
 },
 "nbformat": 4,
 "nbformat_minor": 2
}
