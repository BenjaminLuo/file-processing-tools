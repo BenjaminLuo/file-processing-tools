{
 "cells": [
  {
   "cell_type": "code",
   "execution_count": 1,
   "metadata": {},
   "outputs": [
    {
     "name": "stdout",
     "output_type": "stream",
     "text": [
      "Collecting pydub\n",
      "  Downloading pydub-0.25.1-py2.py3-none-any.whl (32 kB)\n",
      "Installing collected packages: pydub\n",
      "Successfully installed pydub-0.25.1\n",
      "Note: you may need to restart the kernel to use updated packages.\n"
     ]
    }
   ],
   "source": [
    "%pip install pydub"
   ]
  },
  {
   "cell_type": "code",
   "execution_count": 4,
   "metadata": {},
   "outputs": [],
   "source": [
    "from pydub import AudioSegment\n",
    "import os\n",
    "\n",
    "# wav mp3 mp4 flac aiff ogg\n",
    "def convert(path, file_name, new_name, format):\n",
    "    flac_audio = AudioSegment.from_file(os.path.join(path, file_name), \"flac\")\n",
    "    flac_audio.export(f\"{new_name}.{format}\", format=format)"
   ]
  },
  {
   "cell_type": "code",
   "execution_count": 5,
   "metadata": {},
   "outputs": [],
   "source": [
    "convert(\n",
    "    path='../clean_000040',\n",
    "    file_name='14415EAR3615_SLASH_14415_SPACE_EAR_SPACE_3-6-15_DOT_mp3_00080.flac',\n",
    "    new_name='sample_speech',\n",
    "    format='mp3'\n",
    ")"
   ]
  },
  {
   "cell_type": "code",
   "execution_count": 27,
   "metadata": {},
   "outputs": [
    {
     "data": {
      "text/plain": [
       "0.9380530973451328"
      ]
     },
     "execution_count": 27,
     "metadata": {},
     "output_type": "execute_result"
    }
   ],
   "source": [
    "# import whisper\n",
    "from sentence_transformers import SentenceTransformer\n",
    "from Levenshtein import ratio\n",
    "\n",
    "# model = whisper.load_model('base')\n",
    "\n",
    "# for file_type in ['wav']:\n",
    "#     text = model.transcribe(f'./tests/resources/test_files/sample_speech.{file_type}')['text']\n",
    "#     print(file_type, text)\n",
    "\n",
    "data = [\n",
    "    \"to at least with us. They go through an extensive counseling process and legal review with summaries of it, with sign statements that they understand what they're getting themselves into and what they have to do and what they own and what they don't own and they own the amount of money they're\",\n",
    "    \"into a lease with us they go through an extensive counseling process and legal review with summaries of it with signed statements that they understand what they're getting themselves into and what they have to do and what they own and what they don't own and they own the\",\n",
    "]\n",
    "\n",
    "# encoder = SentenceTransformer(\"paraphrase-MiniLM-L3-v2\")\n",
    "# vectors = encoder.encode(data)\n",
    "# vectors\n",
    "\n",
    "ratio(data[0], data[1])\n",
    "\n",
    "# true = [\"and thank you for your continued support thank you\",\n",
    "# \"into a lease with us they go through an extensive counseling process and legal review with summaries of it with signed statements that they understand what they're getting themselves into and what they have to do and what they own and what they don't own and they own the\",\n",
    "# \"from our volunteers in maui county when the storms on top of us or a disaster is headed our way or a disaster has just happened because they truly love the work that they're doing and there's something that draws them to red cross something from the heart where\",\n",
    "# \"we're definitely in support of this concept and we'll figure a way to make it work very good and then i know it's a work in progress but in relation to enforcement any type\",\n",
    "# \"mr clarke mr chair proceeding with committee reports you have before you from your policy an intergovernmental affairs committee committee report fifteen dash fifteen recommending the adoption of the resolution\",\n",
    "# \"into a lease with us they go through an extensive counseling process and legal review with summaries of it with signed statements that they understand what they're getting themselves into and what they have to do and what they own and what they don't own and they own the\"]\n",
    "\n",
    "# b = [\"and thank you for your continued support. Thank you.\",\n",
    "# \"to at least with us. They go through an extensive counseling process and legal review with summaries of it, with sign statements that they understand what they're getting themselves into and what they have to do and what they own and what they don't own and they own the amount of money they're\",\n",
    "# \"from our volunteers in Maui County, when a storm's on top of us or a disaster is headed our way, or a disaster has just happened, because they truly love the work that they're doing. And there's something that draws them to red cross something from the heart where,\",\n",
    "# \"We're definitely in support of this concept and we'll figure a way to make it work. Okay, well very good. And then I know it's a work in progress, but in relation to enforcement, any type of...\",\n",
    "# \"Mr. Clerk. Mr. Chair, proceeding with committee reports. You have before you from your policy and intergovernmental affairs committee, committee report 15-15, recommending the adoption of the resolution\",\n",
    "# \"to at least with us. They go through an extensive counseling process and legal review with summaries of it, with sign statements that they understand what they're getting themselves into and what they have to do and what they own and what they don't own and they own the amount of money they're\"]\n",
    "\n",
    "# for i, _ in enumerate(true):\n",
    "#     bi = b[i].lower().replace('.', '').replace(',', '')\n",
    "\n",
    "#     print(true[i] == bi)"
   ]
  },
  {
   "cell_type": "code",
   "execution_count": 1,
   "metadata": {},
   "outputs": [
    {
     "name": "stdout",
     "output_type": "stream",
     "text": [
      "{'bitrate': 24000, 'length': 15.012, 'artist': '', 'date': '', 'title': '', 'organization': ''}\n"
     ]
    }
   ],
   "source": [
    "from file_processing import File\n",
    "\n",
    "for file in [\"tests/resources/test_files/sample_speech.mp3\"]:\n",
    "    print(File(file).metadata)\n"
   ]
  },
  {
   "cell_type": "code",
   "execution_count": 12,
   "metadata": {},
   "outputs": [
    {
     "data": {
      "text/plain": [
       "True"
      ]
     },
     "execution_count": 12,
     "metadata": {},
     "output_type": "execute_result"
    }
   ],
   "source": [
    "from mutagen import File as MutagenFile\n",
    "from mutagen.mp3 import MP3\n",
    "from mutagen.mp4 import MP4\n",
    "\n",
    "file = MutagenFile(\"tests/resources/test_files/sample_speech.mp3\")\n",
    "\n",
    "isinstance(file, MP3)"
   ]
  },
  {
   "cell_type": "code",
   "execution_count": 12,
   "metadata": {},
   "outputs": [],
   "source": [
    "import os\n",
    "import random\n",
    "\n",
    "def corrupt_file(file_path):\n",
    "    # Get the size of the file\n",
    "    file_size = os.path.getsize(file_path)\n",
    "    \n",
    "    # Select a random position in the file\n",
    "    position = random.randint(0, file_size - 1)\n",
    "    \n",
    "    # Open the file in binary mode for reading and writing\n",
    "    with open(file_path, 'rb+') as file:\n",
    "        # Move the file pointer to the random position\n",
    "        file.seek(position)\n",
    "        \n",
    "        # Read the byte at the random position\n",
    "        byte = file.read(1)\n",
    "        \n",
    "        # Change the byte\n",
    "        byte = bytes([(byte[0] + 1) % 256])\n",
    "        \n",
    "        # Write the changed byte back to the file\n",
    "        file.seek(position)\n",
    "        file.write(byte)\n",
    "        file.close()\n",
    "\n",
    "# Test the function\n",
    "corrupt_file('sample_speech.mp3') # Corrupt 10 bytes starting from offset 100"
   ]
  },
  {
   "cell_type": "code",
   "execution_count": 11,
   "metadata": {},
   "outputs": [
    {
     "data": {
      "text/plain": [
       "<file_processing.file.File at 0x227525c99f0>"
      ]
     },
     "execution_count": 11,
     "metadata": {},
     "output_type": "execute_result"
    }
   ],
   "source": [
    "File('sample_speech.mp3')"
   ]
  }
 ],
 "metadata": {
  "kernelspec": {
   "display_name": ".venv",
   "language": "python",
   "name": "python3"
  },
  "language_info": {
   "codemirror_mode": {
    "name": "ipython",
    "version": 3
   },
   "file_extension": ".py",
   "mimetype": "text/x-python",
   "name": "python",
   "nbconvert_exporter": "python",
   "pygments_lexer": "ipython3",
   "version": "3.10.4"
  },
  "orig_nbformat": 4
 },
 "nbformat": 4,
 "nbformat_minor": 2
}
