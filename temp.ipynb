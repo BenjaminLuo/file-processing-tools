{
 "cells": [
  {
   "cell_type": "code",
   "execution_count": 2,
   "metadata": {},
   "outputs": [
    {
     "name": "stderr",
     "output_type": "stream",
     "text": [
      "Processing files: 0 files completed [00:00, ? files completed/s]ted/s]\n",
      "Processing batches: 0 batches completed [00:00, ? batches completed/s]\n"
     ]
    },
    {
     "ename": "EmptySelection",
     "evalue": "Filtered selection of files is empty.                             Please try a different directory, or new filters.                             Filters: None, Path: C:\\Users\\BLUO\\Downloads\\report\\tests\\resources\\empty_dir",
     "output_type": "error",
     "traceback": [
      "\u001b[1;31m---------------------------------------------------------------------------\u001b[0m",
      "\u001b[1;31mEmptySelection\u001b[0m                            Traceback (most recent call last)",
      "Cell \u001b[1;32mIn[2], line 3\u001b[0m\n\u001b[0;32m      1\u001b[0m \u001b[39mfrom\u001b[39;00m \u001b[39mfile_processing\u001b[39;00m \u001b[39mimport\u001b[39;00m Directory\n\u001b[1;32m----> 3\u001b[0m Directory(\u001b[39m'\u001b[39;49m\u001b[39m./tests/resources/empty_dir\u001b[39;49m\u001b[39m'\u001b[39;49m)\u001b[39m.\u001b[39;49mgenerate_report(\u001b[39m'\u001b[39;49m\u001b[39mmetadata.csv\u001b[39;49m\u001b[39m'\u001b[39;49m)\n",
      "File \u001b[1;32mc:\\Users\\BLUO\\Downloads\\report\\file_processing\\directory.py:281\u001b[0m, in \u001b[0;36mDirectory.generate_report\u001b[1;34m(self, report_file, include_text, filters, keywords, check_title_keywords, migrate_filters, open_files, split_metadata, char_limit, batch_size, start_at, recovery_mode)\u001b[0m\n\u001b[0;32m    278\u001b[0m         pbar\u001b[39m.\u001b[39mupdate(\u001b[39m1\u001b[39m)\n\u001b[0;32m    280\u001b[0m \u001b[39mif\u001b[39;00m check_empty:\n\u001b[1;32m--> 281\u001b[0m     \u001b[39mraise\u001b[39;00m EmptySelection(\u001b[39mf\u001b[39m\u001b[39m'\u001b[39m\u001b[39mFiltered selection of files is empty. \u001b[39m\u001b[39m\\\u001b[39;00m\n\u001b[0;32m    282\u001b[0m \u001b[39m                    Please try a different directory, or new filters. \u001b[39m\u001b[39m\\\u001b[39;00m\n\u001b[0;32m    283\u001b[0m \u001b[39m                    Filters: \u001b[39m\u001b[39m{\u001b[39;00mfilters\u001b[39m}\u001b[39;00m\u001b[39m, Path: \u001b[39m\u001b[39m{\u001b[39;00mPath(\u001b[39mself\u001b[39m\u001b[39m.\u001b[39mpath)\u001b[39m.\u001b[39mresolve()\u001b[39m}\u001b[39;00m\u001b[39m'\u001b[39m)\n",
      "\u001b[1;31mEmptySelection\u001b[0m: Filtered selection of files is empty.                             Please try a different directory, or new filters.                             Filters: None, Path: C:\\Users\\BLUO\\Downloads\\report\\tests\\resources\\empty_dir"
     ]
    }
   ],
   "source": [
    "from file_processing import Directory\n",
    "\n",
    "Directory('./tests/resources/empty_dir').generate_report('metadata.csv')"
   ]
  }
 ],
 "metadata": {
  "kernelspec": {
   "display_name": ".venv",
   "language": "python",
   "name": "python3"
  },
  "language_info": {
   "codemirror_mode": {
    "name": "ipython",
    "version": 3
   },
   "file_extension": ".py",
   "mimetype": "text/x-python",
   "name": "python",
   "nbconvert_exporter": "python",
   "pygments_lexer": "ipython3",
   "version": "3.10.4"
  },
  "orig_nbformat": 4
 },
 "nbformat": 4,
 "nbformat_minor": 2
}
