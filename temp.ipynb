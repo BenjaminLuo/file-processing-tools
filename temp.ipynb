{
 "cells": [
  {
   "cell_type": "code",
   "execution_count": 2,
   "metadata": {},
   "outputs": [
    {
     "name": "stdout",
     "output_type": "stream",
     "text": [
      "Processing c:\\users\\bluo\\downloads\\idp\\dist\\file_processing-0.0.0-py3-none-any.whl\n",
      "Requirement already satisfied: pypdf==4.0.0 in c:\\users\\bluo\\downloads\\idp\\.venv\\lib\\site-packages (from file-processing==0.0.0) (4.0.0)\n",
      "Requirement already satisfied: python-docx==0.8.11 in c:\\users\\bluo\\downloads\\idp\\.venv\\lib\\site-packages (from file-processing==0.0.0) (0.8.11)\n",
      "Requirement already satisfied: extract-msg==0.45.0 in c:\\users\\bluo\\downloads\\idp\\.venv\\lib\\site-packages (from file-processing==0.0.0) (0.45.0)\n",
      "Requirement already satisfied: python-pptx==0.6.21 in c:\\users\\bluo\\downloads\\idp\\.venv\\lib\\site-packages (from file-processing==0.0.0) (0.6.21)\n",
      "Requirement already satisfied: striprtf==0.0.26 in c:\\users\\bluo\\downloads\\idp\\.venv\\lib\\site-packages (from file-processing==0.0.0) (0.0.26)\n",
      "Requirement already satisfied: chardet==5.2.0 in c:\\users\\bluo\\downloads\\idp\\.venv\\lib\\site-packages (from file-processing==0.0.0) (5.2.0)\n",
      "Requirement already satisfied: Pillow>=10.0.0 in c:\\users\\bluo\\downloads\\idp\\.venv\\lib\\site-packages (from file-processing==0.0.0) (10.3.0)\n",
      "Requirement already satisfied: pillow-heif==0.14.0 in c:\\users\\bluo\\downloads\\idp\\.venv\\lib\\site-packages (from file-processing==0.0.0) (0.14.0)\n",
      "Requirement already satisfied: pytesseract==0.3.10 in c:\\users\\bluo\\downloads\\idp\\.venv\\lib\\site-packages (from file-processing==0.0.0) (0.3.10)\n",
      "Requirement already satisfied: openpyxl>=3.1.2 in c:\\users\\bluo\\downloads\\idp\\.venv\\lib\\site-packages (from file-processing==0.0.0) (3.1.2)\n",
      "Requirement already satisfied: pandas>=2.0.3 in c:\\users\\bluo\\downloads\\idp\\.venv\\lib\\site-packages (from file-processing==0.0.0) (2.2.2)\n",
      "Requirement already satisfied: scikit-learn==1.3.0 in c:\\users\\bluo\\downloads\\idp\\.venv\\lib\\site-packages (from file-processing==0.0.0) (1.3.0)\n",
      "Requirement already satisfied: tqdm==4.66.1 in c:\\users\\bluo\\downloads\\idp\\.venv\\lib\\site-packages (from file-processing==0.0.0) (4.66.1)\n",
      "Requirement already satisfied: openai-whisper in c:\\users\\bluo\\downloads\\idp\\.venv\\lib\\site-packages (from file-processing==0.0.0) (20231117)\n",
      "Requirement already satisfied: mutagen==1.47.0 in c:\\users\\bluo\\downloads\\idp\\.venv\\lib\\site-packages (from file-processing==0.0.0) (1.47.0)\n",
      "Requirement already satisfied: faiss-cpu==1.7.4 in c:\\users\\bluo\\downloads\\idp\\.venv\\lib\\site-packages (from file-processing==0.0.0) (1.7.4)\n",
      "Requirement already satisfied: sentence-transformers==2.2.2 in c:\\users\\bluo\\downloads\\idp\\.venv\\lib\\site-packages (from file-processing==0.0.0) (2.2.2)\n",
      "Requirement already satisfied: Levenshtein==0.21.1 in c:\\users\\bluo\\downloads\\idp\\.venv\\lib\\site-packages (from file-processing==0.0.0) (0.21.1)\n",
      "Requirement already satisfied: imapclient<3,>=2.3.0 in c:\\users\\bluo\\downloads\\idp\\.venv\\lib\\site-packages (from extract-msg==0.45.0->file-processing==0.0.0) (2.3.1)\n",
      "Requirement already satisfied: olefile==0.46 in c:\\users\\bluo\\downloads\\idp\\.venv\\lib\\site-packages (from extract-msg==0.45.0->file-processing==0.0.0) (0.46)\n",
      "Requirement already satisfied: tzlocal<6,>=4.2 in c:\\users\\bluo\\downloads\\idp\\.venv\\lib\\site-packages (from extract-msg==0.45.0->file-processing==0.0.0) (5.2)\n",
      "Requirement already satisfied: compressed-rtf<2,>=1.0.6 in c:\\users\\bluo\\downloads\\idp\\.venv\\lib\\site-packages (from extract-msg==0.45.0->file-processing==0.0.0) (1.0.6)\n",
      "Requirement already satisfied: ebcdic<2,>=1.1.1 in c:\\users\\bluo\\downloads\\idp\\.venv\\lib\\site-packages (from extract-msg==0.45.0->file-processing==0.0.0) (1.1.1)\n",
      "Requirement already satisfied: beautifulsoup4<4.13,>=4.11.1 in c:\\users\\bluo\\downloads\\idp\\.venv\\lib\\site-packages (from extract-msg==0.45.0->file-processing==0.0.0) (4.12.3)\n",
      "Requirement already satisfied: RTFDE<0.2,>=0.1.0 in c:\\users\\bluo\\downloads\\idp\\.venv\\lib\\site-packages (from extract-msg==0.45.0->file-processing==0.0.0) (0.1.1)\n",
      "Requirement already satisfied: red-black-tree-mod==1.20 in c:\\users\\bluo\\downloads\\idp\\.venv\\lib\\site-packages (from extract-msg==0.45.0->file-processing==0.0.0) (1.20)\n",
      "Requirement already satisfied: rapidfuzz<4.0.0,>=2.3.0 in c:\\users\\bluo\\downloads\\idp\\.venv\\lib\\site-packages (from Levenshtein==0.21.1->file-processing==0.0.0) (3.8.1)\n",
      "Requirement already satisfied: packaging>=21.3 in c:\\users\\bluo\\downloads\\idp\\.venv\\lib\\site-packages (from pytesseract==0.3.10->file-processing==0.0.0) (24.0)\n",
      "Requirement already satisfied: lxml>=2.3.2 in c:\\users\\bluo\\downloads\\idp\\.venv\\lib\\site-packages (from python-docx==0.8.11->file-processing==0.0.0) (5.2.1)\n",
      "Requirement already satisfied: XlsxWriter>=0.5.7 in c:\\users\\bluo\\downloads\\idp\\.venv\\lib\\site-packages (from python-pptx==0.6.21->file-processing==0.0.0) (3.2.0)\n",
      "Requirement already satisfied: numpy>=1.17.3 in c:\\users\\bluo\\downloads\\idp\\.venv\\lib\\site-packages (from scikit-learn==1.3.0->file-processing==0.0.0) (1.26.4)\n",
      "Requirement already satisfied: scipy>=1.5.0 in c:\\users\\bluo\\downloads\\idp\\.venv\\lib\\site-packages (from scikit-learn==1.3.0->file-processing==0.0.0) (1.13.0)\n",
      "Requirement already satisfied: joblib>=1.1.1 in c:\\users\\bluo\\downloads\\idp\\.venv\\lib\\site-packages (from scikit-learn==1.3.0->file-processing==0.0.0) (1.4.0)\n",
      "Requirement already satisfied: threadpoolctl>=2.0.0 in c:\\users\\bluo\\downloads\\idp\\.venv\\lib\\site-packages (from scikit-learn==1.3.0->file-processing==0.0.0) (3.4.0)\n",
      "Requirement already satisfied: transformers<5.0.0,>=4.6.0 in c:\\users\\bluo\\downloads\\idp\\.venv\\lib\\site-packages (from sentence-transformers==2.2.2->file-processing==0.0.0) (4.39.3)\n",
      "Requirement already satisfied: torch>=1.6.0 in c:\\users\\bluo\\downloads\\idp\\.venv\\lib\\site-packages (from sentence-transformers==2.2.2->file-processing==0.0.0) (2.2.2)\n",
      "Requirement already satisfied: torchvision in c:\\users\\bluo\\downloads\\idp\\.venv\\lib\\site-packages (from sentence-transformers==2.2.2->file-processing==0.0.0) (0.17.2)\n",
      "Requirement already satisfied: nltk in c:\\users\\bluo\\downloads\\idp\\.venv\\lib\\site-packages (from sentence-transformers==2.2.2->file-processing==0.0.0) (3.8.1)\n",
      "Requirement already satisfied: sentencepiece in c:\\users\\bluo\\downloads\\idp\\.venv\\lib\\site-packages (from sentence-transformers==2.2.2->file-processing==0.0.0) (0.2.0)\n",
      "Requirement already satisfied: huggingface-hub>=0.4.0 in c:\\users\\bluo\\downloads\\idp\\.venv\\lib\\site-packages (from sentence-transformers==2.2.2->file-processing==0.0.0) (0.22.2)\n",
      "Requirement already satisfied: colorama in c:\\users\\bluo\\downloads\\idp\\.venv\\lib\\site-packages (from tqdm==4.66.1->file-processing==0.0.0) (0.4.6)\n",
      "Requirement already satisfied: et-xmlfile in c:\\users\\bluo\\downloads\\idp\\.venv\\lib\\site-packages (from openpyxl>=3.1.2->file-processing==0.0.0) (1.1.0)\n",
      "Requirement already satisfied: python-dateutil>=2.8.2 in c:\\users\\bluo\\downloads\\idp\\.venv\\lib\\site-packages (from pandas>=2.0.3->file-processing==0.0.0) (2.9.0.post0)\n",
      "Requirement already satisfied: pytz>=2020.1 in c:\\users\\bluo\\downloads\\idp\\.venv\\lib\\site-packages (from pandas>=2.0.3->file-processing==0.0.0) (2024.1)\n",
      "Requirement already satisfied: tzdata>=2022.7 in c:\\users\\bluo\\downloads\\idp\\.venv\\lib\\site-packages (from pandas>=2.0.3->file-processing==0.0.0) (2024.1)\n",
      "Requirement already satisfied: numba in c:\\users\\bluo\\downloads\\idp\\.venv\\lib\\site-packages (from openai-whisper->file-processing==0.0.0) (0.59.1)\n",
      "Requirement already satisfied: more-itertools in c:\\users\\bluo\\downloads\\idp\\.venv\\lib\\site-packages (from openai-whisper->file-processing==0.0.0) (10.2.0)\n",
      "Requirement already satisfied: tiktoken in c:\\users\\bluo\\downloads\\idp\\.venv\\lib\\site-packages (from openai-whisper->file-processing==0.0.0) (0.6.0)\n",
      "Requirement already satisfied: soupsieve>1.2 in c:\\users\\bluo\\downloads\\idp\\.venv\\lib\\site-packages (from beautifulsoup4<4.13,>=4.11.1->extract-msg==0.45.0->file-processing==0.0.0) (2.5)\n",
      "Requirement already satisfied: filelock in c:\\users\\bluo\\downloads\\idp\\.venv\\lib\\site-packages (from huggingface-hub>=0.4.0->sentence-transformers==2.2.2->file-processing==0.0.0) (3.13.4)\n",
      "Requirement already satisfied: fsspec>=2023.5.0 in c:\\users\\bluo\\downloads\\idp\\.venv\\lib\\site-packages (from huggingface-hub>=0.4.0->sentence-transformers==2.2.2->file-processing==0.0.0) (2024.3.1)\n",
      "Requirement already satisfied: pyyaml>=5.1 in c:\\users\\bluo\\downloads\\idp\\.venv\\lib\\site-packages (from huggingface-hub>=0.4.0->sentence-transformers==2.2.2->file-processing==0.0.0) (6.0.1)\n",
      "Requirement already satisfied: requests in c:\\users\\bluo\\downloads\\idp\\.venv\\lib\\site-packages (from huggingface-hub>=0.4.0->sentence-transformers==2.2.2->file-processing==0.0.0) (2.31.0)\n",
      "Requirement already satisfied: typing-extensions>=3.7.4.3 in c:\\users\\bluo\\downloads\\idp\\.venv\\lib\\site-packages (from huggingface-hub>=0.4.0->sentence-transformers==2.2.2->file-processing==0.0.0) (4.11.0)\n",
      "Requirement already satisfied: six in c:\\users\\bluo\\downloads\\idp\\.venv\\lib\\site-packages (from imapclient<3,>=2.3.0->extract-msg==0.45.0->file-processing==0.0.0) (1.16.0)\n",
      "Requirement already satisfied: lark==1.1.8 in c:\\users\\bluo\\downloads\\idp\\.venv\\lib\\site-packages (from RTFDE<0.2,>=0.1.0->extract-msg==0.45.0->file-processing==0.0.0) (1.1.8)\n",
      "Requirement already satisfied: oletools>=0.56 in c:\\users\\bluo\\downloads\\idp\\.venv\\lib\\site-packages (from RTFDE<0.2,>=0.1.0->extract-msg==0.45.0->file-processing==0.0.0) (0.60.1)\n",
      "Requirement already satisfied: sympy in c:\\users\\bluo\\downloads\\idp\\.venv\\lib\\site-packages (from torch>=1.6.0->sentence-transformers==2.2.2->file-processing==0.0.0) (1.12)\n",
      "Requirement already satisfied: networkx in c:\\users\\bluo\\downloads\\idp\\.venv\\lib\\site-packages (from torch>=1.6.0->sentence-transformers==2.2.2->file-processing==0.0.0) (3.3)\n",
      "Requirement already satisfied: jinja2 in c:\\users\\bluo\\downloads\\idp\\.venv\\lib\\site-packages (from torch>=1.6.0->sentence-transformers==2.2.2->file-processing==0.0.0) (3.1.3)\n",
      "Requirement already satisfied: regex!=2019.12.17 in c:\\users\\bluo\\downloads\\idp\\.venv\\lib\\site-packages (from transformers<5.0.0,>=4.6.0->sentence-transformers==2.2.2->file-processing==0.0.0) (2023.12.25)\n",
      "Requirement already satisfied: tokenizers<0.19,>=0.14 in c:\\users\\bluo\\downloads\\idp\\.venv\\lib\\site-packages (from transformers<5.0.0,>=4.6.0->sentence-transformers==2.2.2->file-processing==0.0.0) (0.15.2)\n",
      "Requirement already satisfied: safetensors>=0.4.1 in c:\\users\\bluo\\downloads\\idp\\.venv\\lib\\site-packages (from transformers<5.0.0,>=4.6.0->sentence-transformers==2.2.2->file-processing==0.0.0) (0.4.2)\n",
      "Requirement already satisfied: click in c:\\users\\bluo\\downloads\\idp\\.venv\\lib\\site-packages (from nltk->sentence-transformers==2.2.2->file-processing==0.0.0) (8.1.7)\n",
      "Requirement already satisfied: llvmlite<0.43,>=0.42.0dev0 in c:\\users\\bluo\\downloads\\idp\\.venv\\lib\\site-packages (from numba->openai-whisper->file-processing==0.0.0) (0.42.0)\n",
      "Requirement already satisfied: pyparsing<3,>=2.1.0 in c:\\users\\bluo\\downloads\\idp\\.venv\\lib\\site-packages (from oletools>=0.56->RTFDE<0.2,>=0.1.0->extract-msg==0.45.0->file-processing==0.0.0) (2.4.7)\n",
      "Requirement already satisfied: easygui in c:\\users\\bluo\\downloads\\idp\\.venv\\lib\\site-packages (from oletools>=0.56->RTFDE<0.2,>=0.1.0->extract-msg==0.45.0->file-processing==0.0.0) (0.98.3)\n",
      "Requirement already satisfied: colorclass in c:\\users\\bluo\\downloads\\idp\\.venv\\lib\\site-packages (from oletools>=0.56->RTFDE<0.2,>=0.1.0->extract-msg==0.45.0->file-processing==0.0.0) (2.2.2)\n",
      "Requirement already satisfied: pcodedmp>=1.2.5 in c:\\users\\bluo\\downloads\\idp\\.venv\\lib\\site-packages (from oletools>=0.56->RTFDE<0.2,>=0.1.0->extract-msg==0.45.0->file-processing==0.0.0) (1.2.6)\n",
      "Requirement already satisfied: msoffcrypto-tool in c:\\users\\bluo\\downloads\\idp\\.venv\\lib\\site-packages (from oletools>=0.56->RTFDE<0.2,>=0.1.0->extract-msg==0.45.0->file-processing==0.0.0) (5.3.1)\n",
      "Requirement already satisfied: charset-normalizer<4,>=2 in c:\\users\\bluo\\downloads\\idp\\.venv\\lib\\site-packages (from requests->huggingface-hub>=0.4.0->sentence-transformers==2.2.2->file-processing==0.0.0) (3.3.2)\n",
      "Requirement already satisfied: idna<4,>=2.5 in c:\\users\\bluo\\downloads\\idp\\.venv\\lib\\site-packages (from requests->huggingface-hub>=0.4.0->sentence-transformers==2.2.2->file-processing==0.0.0) (3.7)\n",
      "Requirement already satisfied: urllib3<3,>=1.21.1 in c:\\users\\bluo\\downloads\\idp\\.venv\\lib\\site-packages (from requests->huggingface-hub>=0.4.0->sentence-transformers==2.2.2->file-processing==0.0.0) (2.2.1)\n",
      "Requirement already satisfied: certifi>=2017.4.17 in c:\\users\\bluo\\downloads\\idp\\.venv\\lib\\site-packages (from requests->huggingface-hub>=0.4.0->sentence-transformers==2.2.2->file-processing==0.0.0) (2024.2.2)\n",
      "Requirement already satisfied: MarkupSafe>=2.0 in c:\\users\\bluo\\downloads\\idp\\.venv\\lib\\site-packages (from jinja2->torch>=1.6.0->sentence-transformers==2.2.2->file-processing==0.0.0) (2.1.5)\n",
      "Requirement already satisfied: mpmath>=0.19 in c:\\users\\bluo\\downloads\\idp\\.venv\\lib\\site-packages (from sympy->torch>=1.6.0->sentence-transformers==2.2.2->file-processing==0.0.0) (1.3.0)\n",
      "Requirement already satisfied: win-unicode-console in c:\\users\\bluo\\downloads\\idp\\.venv\\lib\\site-packages (from pcodedmp>=1.2.5->oletools>=0.56->RTFDE<0.2,>=0.1.0->extract-msg==0.45.0->file-processing==0.0.0) (0.5)\n",
      "Requirement already satisfied: cryptography>=35.0 in c:\\users\\bluo\\downloads\\idp\\.venv\\lib\\site-packages (from msoffcrypto-tool->oletools>=0.56->RTFDE<0.2,>=0.1.0->extract-msg==0.45.0->file-processing==0.0.0) (42.0.5)\n",
      "Requirement already satisfied: cffi>=1.12 in c:\\users\\bluo\\downloads\\idp\\.venv\\lib\\site-packages (from cryptography>=35.0->msoffcrypto-tool->oletools>=0.56->RTFDE<0.2,>=0.1.0->extract-msg==0.45.0->file-processing==0.0.0) (1.16.0)\n",
      "Requirement already satisfied: pycparser in c:\\users\\bluo\\downloads\\idp\\.venv\\lib\\site-packages (from cffi>=1.12->cryptography>=35.0->msoffcrypto-tool->oletools>=0.56->RTFDE<0.2,>=0.1.0->extract-msg==0.45.0->file-processing==0.0.0) (2.22)\n",
      "Installing collected packages: file-processing\n",
      "  Attempting uninstall: file-processing\n",
      "    Found existing installation: file_processing 0.0.0\n",
      "    Uninstalling file_processing-0.0.0:\n",
      "      Successfully uninstalled file_processing-0.0.0\n",
      "Successfully installed file-processing-0.0.0\n",
      "Note: you may need to restart the kernel to use updated packages.\n"
     ]
    }
   ],
   "source": [
    "%pip install C:\\Users\\BLUO\\Downloads\\IDP\\dist\\file_processing-0.0.0-py3-none-any.whl"
   ]
  },
  {
   "cell_type": "code",
   "execution_count": 1,
   "metadata": {},
   "outputs": [
    {
     "data": {
      "text/plain": [
       "'tesseract'"
      ]
     },
     "execution_count": 1,
     "metadata": {},
     "output_type": "execute_result"
    }
   ],
   "source": [
    "import pytesseract\n",
    "\n",
    "pytesseract.pytesseract.tesseract_cmd"
   ]
  },
  {
   "cell_type": "code",
   "execution_count": 4,
   "metadata": {},
   "outputs": [
    {
     "data": {
      "text/plain": [
       "'Test OCR text successful!\\n'"
      ]
     },
     "execution_count": 4,
     "metadata": {},
     "output_type": "execute_result"
    }
   ],
   "source": [
    "from PIL import Image\n",
    "import pytesseract\n",
    "\n",
    "pytesseract.pytesseract.tesseract_cmd = 'C:/users/BLUO/AppData/Local/Programs/Tesseract-OCR/tesseract.exe'\n",
    "\n",
    "image = Image.open('tests/resources/test_files/test_ocr_text.png')\n",
    "text = pytesseract.image_to_string(image)\n",
    "\n",
    "text"
   ]
  },
  {
   "cell_type": "code",
   "execution_count": null,
   "metadata": {},
   "outputs": [],
   "source": [
    "from file_processing import File\n",
    "\n",
    "ocr_path = 'C:/users/BLUO/AppData/Local/Programs/Tesseract-OCR/tesseract.exe'\n",
    "\n",
    "File(image, use_ocr=True, ocr_path=ocr_path)"
   ]
  }
 ],
 "metadata": {
  "kernelspec": {
   "display_name": ".venv",
   "language": "python",
   "name": "python3"
  },
  "language_info": {
   "codemirror_mode": {
    "name": "ipython",
    "version": 3
   },
   "file_extension": ".py",
   "mimetype": "text/x-python",
   "name": "python",
   "nbconvert_exporter": "python",
   "pygments_lexer": "ipython3",
   "version": "3.10.4"
  }
 },
 "nbformat": 4,
 "nbformat_minor": 2
}
