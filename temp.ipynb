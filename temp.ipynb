{
 "cells": [
  {
   "cell_type": "code",
   "execution_count": 4,
   "metadata": {},
   "outputs": [
    {
     "name": "stderr",
     "output_type": "stream",
     "text": [
      "Processing files: 15 files completed [00:09,  1.60 files completed/s]eted]\n",
      "Processing batches: 1 batches completed [00:09,  9.40s/ batches completed]\n"
     ]
    }
   ],
   "source": [
    "from file_processing import Directory\n",
    "\n",
    "directory = Directory('./tests/resources/directory_test_files/')\n",
    "directory.generate_report(report_file='metadata.csv')"
   ]
  }
 ],
 "metadata": {
  "kernelspec": {
   "display_name": ".venv",
   "language": "python",
   "name": "python3"
  },
  "language_info": {
   "codemirror_mode": {
    "name": "ipython",
    "version": 3
   },
   "file_extension": ".py",
   "mimetype": "text/x-python",
   "name": "python",
   "nbconvert_exporter": "python",
   "pygments_lexer": "ipython3",
   "version": "3.10.4"
  },
  "orig_nbformat": 4
 },
 "nbformat": 4,
 "nbformat_minor": 2
}
