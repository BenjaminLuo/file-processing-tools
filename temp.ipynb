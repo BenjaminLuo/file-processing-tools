{
 "cells": [
  {
   "cell_type": "code",
   "execution_count": null,
   "metadata": {},
   "outputs": [],
   "source": [
    "from file_processing import File\n",
    "\n",
    "for file_path in [\n",
    "    \"tests/resources/test_files/sample_speech.aiff\",\n",
    "    \"tests/resources/test_files/sample_speech.flac\",\n",
    "    \"tests/resources/test_files/sample_speech.mp3\",\n",
    "    \"tests/resources/test_files/sample_speech.mp4\",\n",
    "    \"tests/resources/test_files/sample_speech.ogg\",\n",
    "    \"tests/resources/test_files/sample_speech.wav\",\n",
    "]:\n",
    "    txt = File(file_path, use_transcriber=True).metadata['text']\n",
    "    print(txt)\n"
   ]
  },
  {
   "cell_type": "code",
   "execution_count": 1,
   "metadata": {},
   "outputs": [
    {
     "name": "stderr",
     "output_type": "stream",
     "text": [
      "Processing files: 100%|██████████| 124/124 [00:00<00:00, 161.59file/s]\n"
     ]
    }
   ],
   "source": [
    "from file_processing import Directory\n",
    "\n",
    "Directory('./tests/resources/').generate_report('./temp.csv', open_files=False)"
   ]
  },
  {
   "cell_type": "code",
   "execution_count": 2,
   "metadata": {},
   "outputs": [
    {
     "name": "stderr",
     "output_type": "stream",
     "text": [
      "Processing files: 100%|██████████| 124/124 [00:00<00:00, 161.87file/s]\n"
     ]
    }
   ],
   "source": [
    "import pandas as pd\n",
    "from pathlib import Path\n",
    "from datetime import datetime\n",
    "from file_processing.directory import Directory\n",
    "\n",
    "output_path = \"test_output.csv\"\n",
    "directory_path = 'tests/resources'\n",
    "dir1 = Directory(directory_path)\n",
    "\n",
    "dir1.generate_report(str(output_path), open_files=False)\n",
    "\n",
    "data = pd.read_csv(str(output_path))\n",
    "data = data[~data['Extension'].isin(['.py', '.csv', '.pyc'])]\n",
    "data = data.reset_index(drop=True)\n",
    "file_names = data['Absolute Path']\n",
    "\n",
    "failing_files_info = []\n",
    "now = datetime.now().timestamp()\n",
    "for file_name in file_names:\n",
    "    last_access_time = Path(str(file_name)).stat().st_atime\n",
    "    if now <= (last_access_time + 1.5 * 60):\n",
    "        formatted_time = datetime.fromtimestamp(last_access_time).strftime('%Y-%m-%d %H:%M:%S')\n",
    "        failing_files_info.append((file_name, formatted_time))\n",
    "        print(f\"File: {file_name}, Last Access Time: {formatted_time}\")"
   ]
  },
  {
   "cell_type": "code",
   "execution_count": 3,
   "metadata": {},
   "outputs": [
    {
     "data": {
      "text/plain": [
       "(1707142586.708469, 1707135003.4605289)"
      ]
     },
     "execution_count": 3,
     "metadata": {},
     "output_type": "execute_result"
    }
   ],
   "source": [
    "from pathlib import Path\n",
    "from datetime import datetime\n",
    "from file_processing import File\n",
    "\n",
    "file = File('tests/resources/directory_test_files_corrupted/government_of_canada_wikipedia_corrupted.txt', open_file=False).metadata\n",
    "datetime.now().timestamp(), Path('tests/resources/directory_test_files_corrupted/government_of_canada_wikipedia_corrupted.txt').stat().st_atime"
   ]
  }
 ],
 "metadata": {
  "kernelspec": {
   "display_name": ".venv",
   "language": "python",
   "name": "python3"
  },
  "language_info": {
   "codemirror_mode": {
    "name": "ipython",
    "version": 3
   },
   "file_extension": ".py",
   "mimetype": "text/x-python",
   "name": "python",
   "nbconvert_exporter": "python",
   "pygments_lexer": "ipython3",
   "version": "3.10.4"
  },
  "orig_nbformat": 4
 },
 "nbformat": 4,
 "nbformat_minor": 2
}
