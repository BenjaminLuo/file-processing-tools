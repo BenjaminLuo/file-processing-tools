{
 "cells": [
  {
   "cell_type": "code",
   "execution_count": 1,
   "metadata": {},
   "outputs": [
    {
     "name": "stdout",
     "output_type": "stream",
     "text": [
      "Collecting pydub\n",
      "  Downloading pydub-0.25.1-py2.py3-none-any.whl (32 kB)\n",
      "Installing collected packages: pydub\n",
      "Successfully installed pydub-0.25.1\n",
      "Note: you may need to restart the kernel to use updated packages.\n"
     ]
    }
   ],
   "source": [
    "%pip install pydub"
   ]
  },
  {
   "cell_type": "code",
   "execution_count": 12,
   "metadata": {},
   "outputs": [],
   "source": [
    "from pydub import AudioSegment\n",
    "import os\n",
    "\n",
    "# wav mp3 mp4 flac aiff ogg\n",
    "def convert(path, file_name, new_name, format):\n",
    "    flac_audio = AudioSegment.from_file(os.path.join(path, file_name), \"flac\")\n",
    "    flac_audio.export(f\"{new_name}.{format}\", format=format)"
   ]
  },
  {
   "cell_type": "code",
   "execution_count": 20,
   "metadata": {},
   "outputs": [],
   "source": [
    "convert(\n",
    "    path='../clean_000040',\n",
    "    file_name='14415EAR3615_SLASH_14415_SPACE_EAR_SPACE_3-6-15_DOT_mp3_00080.flac',\n",
    "    new_name='sample_speech',\n",
    "    format='wav'\n",
    ")"
   ]
  },
  {
   "cell_type": "code",
   "execution_count": 21,
   "metadata": {},
   "outputs": [
    {
     "name": "stderr",
     "output_type": "stream",
     "text": [
      "c:\\Users\\BLUO\\Downloads\\report\\.venv\\lib\\site-packages\\whisper\\transcribe.py:115: UserWarning: FP16 is not supported on CPU; using FP32 instead\n",
      "  warnings.warn(\"FP16 is not supported on CPU; using FP32 instead\")\n"
     ]
    },
    {
     "name": "stdout",
     "output_type": "stream",
     "text": [
      "aiff  and thank you for your continued support. Thank you.\n",
      "flac  to at least with us. They go through an extensive counseling process and legal review with summaries of it, with sign statements that they understand what they're getting themselves into and what they have to do and what they own and what they don't own and they own the amount of money they're\n",
      "mp3  from our volunteers in Maui County, when a storm's on top of us or a disaster is headed our way, or a disaster has just happened, because they truly love the work that they're doing. And there's something that draws them to red cross something from the heart where,\n",
      "mp4  We're definitely in support of this concept and we'll figure a way to make it work. Okay, well very good. And then I know it's a work in progress, but in relation to enforcement, any type of...\n",
      "ogg  Mr. Clerk. Mr. Chair, proceeding with committee reports. You have before you from your policy and intergovernmental affairs committee, committee report 15-15, recommending the adoption of the resolution\n",
      "wav  to at least with us. They go through an extensive counseling process and legal review with summaries of it, with sign statements that they understand what they're getting themselves into and what they have to do and what they own and what they don't own and they own the amount of money they're\n"
     ]
    },
    {
     "data": {
      "text/plain": [
       "['and thank you for your continued support thank you',\n",
       " \"into a lease with us they go through an extensive counseling process and legal review with summaries of it with signed statements that they understand what they're getting themselves into and what they have to do and what they own and what they don't own and they own the\",\n",
       " \"from our volunteers in maui county when the storms on top of us or a disaster is headed our way or a disaster has just happened because they truly love the work that they're doing and there's something that draws them to red cross something from the heart where\",\n",
       " \"we're definitely in support of this concept and we'll figure a way to make it work very good and then i know it's a work in progress but in relation to enforcement any type\",\n",
       " 'mr clarke mr chair proceeding with committee reports you have before you from your policy an intergovernmental affairs committee committee report fifteen dash fifteen recommending the adoption of the resolution']"
      ]
     },
     "execution_count": 21,
     "metadata": {},
     "output_type": "execute_result"
    }
   ],
   "source": [
    "import whisper\n",
    "\n",
    "model = whisper.load_model('base')\n",
    "\n",
    "for file_type in ['aiff', 'flac', 'mp3', 'mp4', 'ogg', 'wav']:\n",
    "    text = model.transcribe(f'./sample_speech.{file_type}')['text']\n",
    "    print(file_type, text)\n",
    "\n",
    "['and thank you for your continued support thank you',\n",
    " \"into a lease with us they go through an extensive counseling process and legal review with summaries of it with signed statements that they understand what they're getting themselves into and what they have to do and what they own and what they don't own and they own the\",\n",
    " \"from our volunteers in maui county when the storms on top of us or a disaster is headed our way or a disaster has just happened because they truly love the work that they're doing and there's something that draws them to red cross something from the heart where\",\n",
    " \"we're definitely in support of this concept and we'll figure a way to make it work very good and then i know it's a work in progress but in relation to enforcement any type\",\n",
    " \"mr clarke mr chair proceeding with committee reports you have before you from your policy an intergovernmental affairs committee committee report fifteen dash fifteen recommending the adoption of the resolution\",\n",
    " \"into a lease with us they go through an extensive counseling process and legal review with summaries of it with signed statements that they understand what they're getting themselves into and what they have to do and what they own and what they don't own and they own the\"]\n"
   ]
  }
 ],
 "metadata": {
  "kernelspec": {
   "display_name": ".venv",
   "language": "python",
   "name": "python3"
  },
  "language_info": {
   "codemirror_mode": {
    "name": "ipython",
    "version": 3
   },
   "file_extension": ".py",
   "mimetype": "text/x-python",
   "name": "python",
   "nbconvert_exporter": "python",
   "pygments_lexer": "ipython3",
   "version": "3.10.4"
  },
  "orig_nbformat": 4
 },
 "nbformat": 4,
 "nbformat_minor": 2
}
