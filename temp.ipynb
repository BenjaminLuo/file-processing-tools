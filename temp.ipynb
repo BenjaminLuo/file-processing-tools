{
 "cells": [
  {
   "cell_type": "code",
   "execution_count": 3,
   "metadata": {},
   "outputs": [
    {
     "name": "stderr",
     "output_type": "stream",
     "text": [
      "c:\\Users\\BLUO\\Downloads\\report\\.venv\\lib\\site-packages\\whisper\\transcribe.py:115: UserWarning: FP16 is not supported on CPU; using FP32 instead\n",
      "  warnings.warn(\"FP16 is not supported on CPU; using FP32 instead\")\n"
     ]
    },
    {
     "name": "stdout",
     "output_type": "stream",
     "text": [
      " and thank you for your continued support. Thank you.\n",
      " to at least with us. They go through an extensive counseling process and legal review with summaries of it, with sign statements that they understand what they're getting themselves into and what they have to do and what they own and what they don't own and they own the amount of money they're\n",
      " to at least with us. They go through an extensive counseling process and legal review with summaries of it, with sign statements that they understand what they're getting themselves into and what they have to do and what they own and what they don't own and they own the amount of\n",
      " We're definitely in support of this concept and we'll figure a way to make it work. Okay, well very good. And then I know it's a work in progress, but in relation to enforcement, any type of...\n",
      " Mr. Clerk. Mr. Chair, proceeding with committee reports. You have before you from your policy and intergovernmental affairs committee, committee report 15-15, recommending the adoption of the resolution\n",
      " to at least with us. They go through an extensive counseling process and legal review with summaries of it, with sign statements that they understand what they're getting themselves into and what they have to do and what they own and what they don't own and they own the amount of money they're\n"
     ]
    }
   ],
   "source": [
    "from file_processing import File\n",
    "\n",
    "for file_path in [\n",
    "    \"tests/resources/test_files/sample_speech.aiff\",\n",
    "    \"tests/resources/test_files/sample_speech.flac\",\n",
    "    \"tests/resources/test_files/sample_speech.mp3\",\n",
    "    \"tests/resources/test_files/sample_speech.mp4\",\n",
    "    \"tests/resources/test_files/sample_speech.ogg\",\n",
    "    \"tests/resources/test_files/sample_speech.wav\",\n",
    "]:\n",
    "    txt = File(file_path, use_transcriber=True).metadata['text']\n",
    "    print(txt)\n"
   ]
  }
 ],
 "metadata": {
  "language_info": {
   "name": "python"
  },
  "orig_nbformat": 4
 },
 "nbformat": 4,
 "nbformat_minor": 2
}
