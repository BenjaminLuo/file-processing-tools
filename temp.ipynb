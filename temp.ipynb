{
 "cells": [
  {
   "cell_type": "code",
   "execution_count": 2,
   "metadata": {},
   "outputs": [
    {
     "name": "stderr",
     "output_type": "stream",
     "text": [
      "Processing files:   0%|          | 14/45651 [00:00<22:39, 33.56file/s]ERROR:root:Error processing C:.devcontainer\\devcontainer.json: FileCorruptionError\n",
      "Processing files:   9%|▉         | 4007/45651 [03:03<29:11, 23.78file/s]  ERROR:root:Error processing C:.venv\\Lib\\site-packages\\IPython\\core\\tests\\nonascii.py: FileProcessingFailedError\n",
      "Processing files:  14%|█▍        | 6612/45651 [04:34<24:46, 26.27file/s]  ERROR:root:Error processing C:.venv\\Lib\\site-packages\\joblib\\test\\test_func_inspect_special_encoding.py: FileProcessingFailedError\n",
      "Processing files:  45%|████▌     | 20584/45651 [16:15<13:04, 31.96file/s]  ERROR:root:Error processing C:.venv\\Lib\\site-packages\\scipy\\io\\tests\\data\\test-44100Hz-2ch-32bit-float-be.wav: FileProcessingFailedError\n",
      "Processing files:  45%|████▌     | 20588/45651 [16:15<14:38, 28.53file/s]ERROR:root:Error processing C:.venv\\Lib\\site-packages\\scipy\\io\\tests\\data\\test-44100Hz-be-1ch-4bytes.wav: FileProcessingFailedError\n",
      "Processing files:  45%|████▌     | 20591/45651 [16:16<16:37, 25.12file/s]ERROR:root:Error processing C:.venv\\Lib\\site-packages\\scipy\\io\\tests\\data\\test-44100Hz-le-1ch-4bytes-incomplete-chunk.wav: FileProcessingFailedError\n",
      "Processing files:  45%|████▌     | 20594/45651 [16:16<19:12, 21.73file/s]ERROR:root:Error processing C:.venv\\Lib\\site-packages\\scipy\\io\\tests\\data\\test-8000Hz-be-3ch-5S-24bit.wav: FileProcessingFailedError\n",
      "Processing files:  97%|█████████▋| 44116/45651 [36:30<00:59, 25.92file/s]  ERROR:root:Error processing C:.venv\\Lib\\site-packages\\win32com\\demos\\iebutton.py: FileProcessingFailedError\n",
      "Processing files:  97%|█████████▋| 44119/45651 [36:30<01:03, 24.13file/s]ERROR:root:Error processing C:.venv\\Lib\\site-packages\\win32com\\demos\\ietoolbar.py: FileProcessingFailedError\n",
      "Processing files: 100%|█████████▉| 45507/45651 [38:34<02:04,  1.15file/s]ERROR:root:Error processing C:tests\\resources\\directory_test_files_corrupted\\government_of_canada_wikipedia_corrupted.txt: FileProcessingFailedError\n",
      "Processing files: 100%|█████████▉| 45530/45651 [39:29<18:49,  9.34s/file]ERROR:root:Error processing C:tests\\resources\\test_files\\2021_Census_English_corrupted.csv: FileProcessingFailedError\n",
      "Processing files: 100%|█████████▉| 45536/45651 [41:38<21:50, 11.39s/file]  ERROR:root:Error processing C:tests\\resources\\test_files\\callbacks_corrupted.py: FileProcessingFailedError\n",
      "Processing files: 100%|█████████▉| 45538/45651 [41:38<13:57,  7.41s/file]ERROR:root:Error processing C:tests\\resources\\test_files\\CanadaLogo_corrupted.tif: FileProcessingFailedError\n",
      "Processing files: 100%|█████████▉| 45540/45651 [41:38<09:05,  4.91s/file]ERROR:root:Error processing C:tests\\resources\\test_files\\coffee_corrupted.json: FileCorruptionError\n",
      "Processing files: 100%|█████████▉| 45543/45651 [41:53<07:52,  4.38s/file]ERROR:root:Error processing C:tests\\resources\\test_files\\government_of_canada_wikipedia_corrupted.txt: FileProcessingFailedError\n",
      "Processing files: 100%|█████████▉| 45546/45651 [41:55<04:43,  2.70s/file]ERROR:root:Error processing C:tests\\resources\\test_files\\Health - Canada.ca_corrupted.html: FileProcessingFailedError\n",
      "Processing files: 100%|█████████▉| 45551/45651 [41:59<01:49,  1.10s/file]ERROR:root:Error processing C:tests\\resources\\test_files\\HealthCanadaOverviewFromWikipedia_corrupted.docx: FileCorruptionError\n",
      "Processing files: 100%|█████████▉| 45553/45651 [42:00<01:08,  1.42file/s]ERROR:root:Error processing C:tests\\resources\\test_files\\HealthCanadaOverviewFromWikipedia_corrupted.pptx: FileCorruptionError\n",
      "Processing files: 100%|█████████▉| 45558/45651 [42:00<00:28,  3.21file/s]ERROR:root:Error processing C:tests\\resources\\test_files\\MapCanada_corrupted.jpg: FileProcessingFailedError\n",
      "Processing files: 100%|█████████▉| 45560/45651 [42:00<00:26,  3.50file/s]ERROR:root:Error processing C:tests\\resources\\test_files\\MapCanada_corrupted.png: FileProcessingFailedError\n",
      "Processing files: 100%|█████████▉| 45564/45651 [42:01<00:23,  3.66file/s]ERROR:root:Error processing C:tests\\resources\\test_files\\MapleLeaf_corrupted.heic: FileProcessingFailedError\n",
      "ERROR:root:Error processing C:tests\\resources\\test_files\\MapleLeaf_corrupted.heif: FileProcessingFailedError\n",
      "Processing files: 100%|█████████▉| 45566/45651 [42:02<00:18,  4.56file/s]ERROR:root:Error processing C:tests\\resources\\test_files\\MSEdgeIcon_corrupted.gif: FileProcessingFailedError\n",
      "Processing files: 100%|█████████▉| 45568/45651 [42:02<00:14,  5.86file/s]ERROR:root:Error processing C:tests\\resources\\test_files\\MSWordIcon_corrupted.tiff: FileProcessingFailedError\n",
      "Processing files: 100%|█████████▉| 45580/45651 [42:04<00:11,  6.07file/s]WARNING:pypdf._reader:invalid pdf header: b'U\\x85[\\x9c\\xc0'\n",
      "WARNING:pypdf._reader:EOF marker not found\n",
      "ERROR:root:Error processing C:tests\\resources\\test_files\\SampleReportScreenShot_corrupted.pdf: FileProcessingFailedError\n",
      "Processing files: 100%|█████████▉| 45582/45651 [42:04<00:10,  6.88file/s]ERROR:root:Error processing C:tests\\resources\\test_files\\SampleReport_corrupted.zip: FileProcessingFailedError\n",
      "Processing files: 100%|█████████▉| 45584/45651 [42:04<00:07,  8.52file/s]ERROR:root:Error processing C:tests\\resources\\test_files\\Sample_corrupted.xml: FileProcessingFailedError\n",
      "Processing files: 100%|█████████▉| 45591/45651 [42:05<00:04, 13.49file/s]ERROR:root:Error processing C:tests\\resources\\test_files\\sample_speech_corrupted.mp3: FileProcessingFailedError\n",
      "Processing files: 100%|█████████▉| 45594/45651 [42:05<00:03, 15.60file/s]ERROR:extract_msg.msg_classes.msg:not an OLE2 structured storage file\n",
      "ERROR:root:Error processing C:tests\\resources\\test_files\\Test Email_corrupted.msg: FileProcessingFailedError\n",
      "Processing files: 100%|█████████▉| 45597/45651 [42:05<00:03, 16.02file/s]ERROR:root:Error processing C:tests\\resources\\test_files\\Test_excel_file_corrupted.xlsx: FileCorruptionError\n",
      "Processing files: 100%|█████████▉| 45601/45651 [42:05<00:03, 14.95file/s]ERROR:root:Error processing C:tests\\resources\\test_files\\Test_for_RTF_corrupted.rtf: FileProcessingFailedError\n",
      "Processing files: 100%|██████████| 45651/45651 [42:08<00:00, 18.05file/s]\n"
     ]
    }
   ],
   "source": [
    "from file_processing import Directory\n",
    "\n",
    "Directory(r'C:').generate_report('metadata.csv')"
   ]
  }
 ],
 "metadata": {
  "kernelspec": {
   "display_name": ".venv",
   "language": "python",
   "name": "python3"
  },
  "language_info": {
   "codemirror_mode": {
    "name": "ipython",
    "version": 3
   },
   "file_extension": ".py",
   "mimetype": "text/x-python",
   "name": "python",
   "nbconvert_exporter": "python",
   "pygments_lexer": "ipython3",
   "version": "3.10.4"
  },
  "orig_nbformat": 4
 },
 "nbformat": 4,
 "nbformat_minor": 2
}
