{
 "cells": [
  {
   "cell_type": "code",
   "execution_count": 1,
   "metadata": {},
   "outputs": [],
   "source": [
    "from file_processing import File"
   ]
  },
  {
   "cell_type": "code",
   "execution_count": 2,
   "metadata": {},
   "outputs": [],
   "source": [
    "file = File(r'C:\\Users\\BLUO\\Downloads\\report\\requirements.txt')"
   ]
  },
  {
   "cell_type": "code",
   "execution_count": 4,
   "metadata": {},
   "outputs": [
    {
     "data": {
      "text/plain": [
       "{'file_path': WindowsPath('C:/Users/BLUO/Downloads/report/requirements.txt'),\n",
       " 'open_file': True,\n",
       " 'file_name': 'requirements.txt',\n",
       " 'owner': 'AD/BLUO',\n",
       " 'extension': '.txt',\n",
       " 'size': 411,\n",
       " 'modification_time': 1707156577.8320045,\n",
       " 'access_time': 1707224508.0667744,\n",
       " 'creation_time': 1705332838.3662565,\n",
       " 'parent_directory': WindowsPath('C:/Users/BLUO/Downloads/report'),\n",
       " 'permissions': '666',\n",
       " 'is_file': True,\n",
       " 'is_symlink': False,\n",
       " 'absolute_path': WindowsPath('C:/Users/BLUO/Downloads/report/requirements.txt'),\n",
       " 'metadata': {'text': 'wheel==0.40.0\\npytest==7.4.0\\npytest-order==1.2.0\\npypdf==4.0.0\\npython-docx==0.8.11\\nextract-msg==0.45.0\\npython-pptx==0.6.21\\nstriprtf==0.0.26\\nchardet==5.2.0\\nPillow>=10.0.0\\npillow-heif==0.14.0\\npytesseract==0.3.10\\nopenpyxl>=3.1.2\\npandas>=2.0.3\\nnumpy>=1.26.3\\npython-Levenshtein==0.21.1\\nscikit-learn==1.3.0\\ntqdm==4.66.1\\nopenai-whisper\\nmutagen==1.47.0\\nfaiss-cpu==1.7.4\\nsentence-transformers==2.2.2\\n',\n",
       "  'encoding': 'ascii',\n",
       "  'lines': ['wheel==0.40.0',\n",
       "   'pytest==7.4.0',\n",
       "   'pytest-order==1.2.0',\n",
       "   'pypdf==4.0.0',\n",
       "   'python-docx==0.8.11',\n",
       "   'extract-msg==0.45.0',\n",
       "   'python-pptx==0.6.21',\n",
       "   'striprtf==0.0.26',\n",
       "   'chardet==5.2.0',\n",
       "   'Pillow>=10.0.0',\n",
       "   'pillow-heif==0.14.0',\n",
       "   'pytesseract==0.3.10',\n",
       "   'openpyxl>=3.1.2',\n",
       "   'pandas>=2.0.3',\n",
       "   'numpy>=1.26.3',\n",
       "   'python-Levenshtein==0.21.1',\n",
       "   'scikit-learn==1.3.0',\n",
       "   'tqdm==4.66.1',\n",
       "   'openai-whisper',\n",
       "   'mutagen==1.47.0',\n",
       "   'faiss-cpu==1.7.4',\n",
       "   'sentence-transformers==2.2.2',\n",
       "   ''],\n",
       "  'words': ['wheel==0.40.0',\n",
       "   'pytest==7.4.0',\n",
       "   'pytest-order==1.2.0',\n",
       "   'pypdf==4.0.0',\n",
       "   'python-docx==0.8.11',\n",
       "   'extract-msg==0.45.0',\n",
       "   'python-pptx==0.6.21',\n",
       "   'striprtf==0.0.26',\n",
       "   'chardet==5.2.0',\n",
       "   'Pillow>=10.0.0',\n",
       "   'pillow-heif==0.14.0',\n",
       "   'pytesseract==0.3.10',\n",
       "   'openpyxl>=3.1.2',\n",
       "   'pandas>=2.0.3',\n",
       "   'numpy>=1.26.3',\n",
       "   'python-Levenshtein==0.21.1',\n",
       "   'scikit-learn==1.3.0',\n",
       "   'tqdm==4.66.1',\n",
       "   'openai-whisper',\n",
       "   'mutagen==1.47.0',\n",
       "   'faiss-cpu==1.7.4',\n",
       "   'sentence-transformers==2.2.2'],\n",
       "  'num_lines': 23,\n",
       "  'num_words': 22}}"
      ]
     },
     "execution_count": 4,
     "metadata": {},
     "output_type": "execute_result"
    }
   ],
   "source": [
    "file.processor.__dict__"
   ]
  },
  {
   "cell_type": "code",
   "execution_count": 5,
   "metadata": {},
   "outputs": [
    {
     "name": "stderr",
     "output_type": "stream",
     "text": [
      "Processing files: 100%|██████████| 15/15 [00:00<00:00, 146.73file/s]\n"
     ]
    },
    {
     "data": {
      "text/plain": [
       "{'size (MB)': {'.csv': 5.384414,\n",
       "  '.docx': 0.019456,\n",
       "  '.html': 0.168865,\n",
       "  '.msg': 0.0768,\n",
       "  '.pdf': 0.443368,\n",
       "  '.png': 0.004125,\n",
       "  '.pptx': 100.248831,\n",
       "  '.rtf': 0.103257,\n",
       "  '.txt': 0.039357,\n",
       "  '.xlsx': 0.011885,\n",
       "  '.xml': 0.004548,\n",
       "  '.zip': 0.064254},\n",
       " 'count': {'.csv': 1,\n",
       "  '.docx': 1,\n",
       "  '.html': 1,\n",
       "  '.msg': 1,\n",
       "  '.pdf': 2,\n",
       "  '.png': 1,\n",
       "  '.pptx': 3,\n",
       "  '.rtf': 1,\n",
       "  '.txt': 1,\n",
       "  '.xlsx': 1,\n",
       "  '.xml': 1,\n",
       "  '.zip': 1}}"
      ]
     },
     "execution_count": 5,
     "metadata": {},
     "output_type": "execute_result"
    }
   ],
   "source": [
    "from file_processing import Directory\n",
    "\n",
    "directory = Directory('./tests/resources/directory_test_files/')\n",
    "directory.generate_analytics()"
   ]
  }
 ],
 "metadata": {
  "kernelspec": {
   "display_name": ".venv",
   "language": "python",
   "name": "python3"
  },
  "language_info": {
   "codemirror_mode": {
    "name": "ipython",
    "version": 3
   },
   "file_extension": ".py",
   "mimetype": "text/x-python",
   "name": "python",
   "nbconvert_exporter": "python",
   "pygments_lexer": "ipython3",
   "version": "3.10.4"
  },
  "orig_nbformat": 4
 },
 "nbformat": 4,
 "nbformat_minor": 2
}
