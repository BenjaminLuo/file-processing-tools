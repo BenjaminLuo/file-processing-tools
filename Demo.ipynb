{
 "cells": [
  {
   "cell_type": "code",
   "execution_count": 4,
   "metadata": {},
   "outputs": [],
   "source": [
    "import sys\n",
    "sys.path.append('file_processing')\n",
    "\n",
    "from file_processing import File\n",
    "from utils.cosine_similarity import CosineSimilarity\n",
    "from utils.levenshtein_distance import LevenshteinDistance"
   ]
  },
  {
   "cell_type": "code",
   "execution_count": 5,
   "metadata": {},
   "outputs": [
    {
     "name": "stdout",
     "output_type": "stream",
     "text": [
      "resources/HealthCanadaOverviewFromWikipedia.pdf \n",
      "\n",
      "\n",
      "HealthCanadaOverviewFromWikipedia.pdf \n",
      "\n",
      "\n",
      "Health Canada Over view from Wikipedia  \n",
      "13 April 2023  \n",
      "Health Canada (HC; French: Santé Canada, SC)[NB 1] is the department of the Government of Canada \n",
      "responsible for national health p olicy. The department itself is also responsible for numerous federal \n",
      "health -related agencies, including the Canadian Food Inspection Agency (CFIA) and the Public Health \n",
      "Agency of Canada (PHAC), among others. These organizations help to ensure compliance w ith federal \n",
      "law in a variety of healthcare, agricu.............................................\n"
     ]
    }
   ],
   "source": [
    "pdf_1 = File('resources/HealthCanadaOverviewFromWikipedia.pdf')\n",
    "pdf_2 = File('resources/ArtificialNeuralNetworksForBeginners.pdf')\n",
    "\n",
    "print(pdf_1.path,'\\n\\n') \n",
    "print(pdf_1.file_name,'\\n\\n')\n",
    "print(pdf_1.metadata['text'][:500]+'.............................................')"
   ]
  },
  {
   "cell_type": "code",
   "execution_count": 7,
   "metadata": {},
   "outputs": [
    {
     "name": "stdout",
     "output_type": "stream",
     "text": [
      "Cosine Similarity: 0.5487006339701794\n",
      "Levenshtein Distance: 14349\n"
     ]
    }
   ],
   "source": [
    "similarity_cosine = CosineSimilarity(pdf_1, pdf_2).calculate()\n",
    "distance_levenshtein = LevenshteinDistance(pdf_1, pdf_2).calculate()\n",
    "\n",
    "print('Cosine Similarity: '+str(similarity_cosine))\n",
    "print('Levenshtein Distance: '+str(distance_levenshtein))"
   ]
  },
  {
   "cell_type": "code",
   "execution_count": null,
   "metadata": {},
   "outputs": [],
   "source": []
  },
  {
   "cell_type": "code",
   "execution_count": null,
   "metadata": {},
   "outputs": [],
   "source": []
  }
 ],
 "metadata": {
  "kernelspec": {
   "display_name": ".venv",
   "language": "python",
   "name": "python3"
  },
  "language_info": {
   "codemirror_mode": {
    "name": "ipython",
    "version": 3
   },
   "file_extension": ".py",
   "mimetype": "text/x-python",
   "name": "python",
   "nbconvert_exporter": "python",
   "pygments_lexer": "ipython3",
   "version": "3.10.4"
  },
  "orig_nbformat": 4
 },
 "nbformat": 4,
 "nbformat_minor": 2
}
